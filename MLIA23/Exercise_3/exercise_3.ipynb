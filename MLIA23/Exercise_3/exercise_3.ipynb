{
 "cells": [
  {
   "attachments": {},
   "cell_type": "markdown",
   "metadata": {
    "pycharm": {
     "name": "#%% md\n"
    }
   },
   "source": [
    "# Programming Exercise 3: Perceptrons and Random Forest\n",
    "\n",
    "## Grading\n",
    "\n",
    "For this programming exercise, there are 50 points in total. Don't forget to hand in the pen and paper exercises as well.\n",
    "\n",
    "**Required Exercises**\n",
    "\n",
    "| Section | Part                                |Submitted Function                     | Points \n",
    "|---------|:-                                   |:-                                     | :-:    \n",
    "| 1       | [Perceptrons](#section1)            | [`costFunction_hinge`](#costFunction_hinge)    |  15  \n",
    "|         |                                     | [`predict_perceptron`](#predict_perceptron) |  10\n",
    "| 2       | [Random Forest](#section_2)         | [`train_RF_combination`](#train_RF_combination) |  15     \n",
    "|         |                                     | [`evaluate`](#evaluate) |  10\n",
    "|         | Total Points                        |                                       | 50\n"
   ]
  },
  {
   "cell_type": "code",
   "execution_count": 1,
   "metadata": {
    "pycharm": {
     "name": "#%%\n"
    }
   },
   "outputs": [],
   "source": [
    "# used for manipulating directory paths\n",
    "import os\n",
    "\n",
    "# Scientific and vector computation for python\n",
    "import numpy as np\n",
    "\n",
    "# Plotting library\n",
    "from matplotlib import pyplot\n",
    "\n",
    "# Optimization module in scipy\n",
    "from scipy import optimize\n",
    "\n",
    "# library written for this exercise providing additional functions\n",
    "import utils\n",
    "\n",
    "# tells matplotlib to embed plots within the notebook\n",
    "%matplotlib inline\n",
    "np.random.seed(1234)  # this will ensure that we all get the same random numbers and we get consistent results"
   ]
  },
  {
   "cell_type": "markdown",
   "metadata": {
    "pycharm": {
     "name": "#%% md\n"
    }
   },
   "source": [
    "<a id=\"section1\"></a>\n",
    "### 1 Perceptrons\n",
    "\n",
    "In this part, we will use most of the previous code with some small changes to train a perceptron classifier on the same data by using the hinge loss and compare its performace to the logistic regression model. As we have seen in the lectures, most of the parts such as data preparation and the optimization part remain almost the same. However, we need to change the cost function to hinge loss and also modify its gradients accordingly. We also need to change the predict functionality as the output of the two models have different interpretations. To put it in a slightly more technical terminology, the output of the logistic regression model is of a probabilstic nature and since we are dealing with binary classification, we need to use a threshold of 0.5. However, the output of the perceptron estimates the distance to the learnt decision boundary and therefore we only need to decide on which side of the decision boundry the point lies. But we are getting over our heads. Let's continue with coding. \n",
    "\n",
    "#### 1.1 Cost function and gradients\n",
    "\n",
    "Now, complete the code for the function `costFunction_hinge` to return the cost and gradient. Recall that the cost function in (centered) hinge loss is\n",
    "\n",
    "$$ J(\\theta) = \\frac{1}{m} \\sum_{i=1}^{m} \\max \\left( -y^i . \\theta^Tx^i, 0 \\right)$$\n",
    "\n",
    "Note that this is a definition using the $y \\in \\{-1,+1\\}$ labeling notation. But our data in its original form is using a 0,1 labeling. Therefore, we either need to change the equation (see Problem 3 in Exercise Sheet /#2), or we have to adapt the input data to this form. Since the equation in this form is straightforward and makes the codes much easier to write and understand, we will choose to change the data accordingly."
   ]
  },
  {
   "cell_type": "code",
   "execution_count": 2,
   "metadata": {
    "pycharm": {
     "name": "#%%\n"
    }
   },
   "outputs": [],
   "source": [
    "# Load data\n",
    "# The first two columns contains the exam scores and the third column\n",
    "# contains the label.\n",
    "data = np.loadtxt(os.path.join('Data', 'ex2data1.txt'), delimiter=',')\n",
    "X, y = data[:, 0:2], data[:, 2]"
   ]
  },
  {
   "cell_type": "code",
   "execution_count": 3,
   "metadata": {
    "pycharm": {
     "name": "#%%\n"
    }
   },
   "outputs": [],
   "source": [
    "# Setup the data matrix appropriately, and add ones for the intercept term\n",
    "m, n = X.shape\n",
    "\n",
    "# Add intercept term to X\n",
    "X = np.concatenate([np.ones((m, 1)), X], axis=1)"
   ]
  },
  {
   "cell_type": "code",
   "execution_count": 4,
   "metadata": {
    "pycharm": {
     "name": "#%%\n"
    }
   },
   "outputs": [
    {
     "name": "stdout",
     "output_type": "stream",
     "text": [
      "The 10-th example, with feature vector x^i=[ 1.         95.86155507 38.22527806] was previously labeled as 0.0, but now is labeled as -1.0\n"
     ]
    }
   ],
   "source": [
    "# X remains the same\n",
    "y_hinge = 2*(y-0.5)\n",
    "# now, y_hinge only contains -1 or +1 values where the values for the former class 0 has changed to -1\n",
    "\n",
    "check_index = 10\n",
    "print('The {}-th example, with feature vector x^i={} was previously labeled as {}, but now is labeled as {}'.\n",
    "     format(check_index, X[check_index], y[check_index], y_hinge[check_index]))"
   ]
  },
  {
   "cell_type": "markdown",
   "metadata": {
    "pycharm": {
     "name": "#%% md\n"
    }
   },
   "source": [
    "Moreover, it can be shown that while this cost function is convex, it is non-differentiable, therefore we need to use sub-gradients in the parameter update iterations. But for the sake of this assignment, as long as we have access to the gradients, it will not matter and we can proceed as usual. The gradient for the $j^{th}$ element (for $j = 0, 1, \\cdots, n$) is defined as follows:\n",
    "\n",
    "$$ \\frac{\\partial J(\\theta)}{\\partial \\theta_j} = \\frac{1}{m} \\sum_{i \\in L} -y^i{x^i}_j \\hspace{1em} \\text{for } \\hspace{1em} L=\\left\\{ l \\in [m]:  y^l\\cdot \\theta^Tx^l \\leq 0 \\right\\} $$\n",
    "\n",
    "In this case, we can easily write down the gradient vector instead of the partial derivatives:\n",
    "\n",
    "$$ \\nabla J(\\theta) = \\frac{1}{m} \\sum_{i \\in L} -y^i{x^i} \\hspace{1em} \\text{for } \\hspace{1em} L=\\left\\{ l \\in [m]:  y^l\\cdot \\theta^Tx^l \\leq 0 \\right\\} $$\n",
    "\n",
    "Basically, the gradient is the sum of some of the selected data points weighted by their labels.\n",
    "<a id=\"costFunction_hinge\"></a>"
   ]
  },
  {
   "cell_type": "code",
   "execution_count": 18,
   "metadata": {
    "pycharm": {
     "name": "#%%\n"
    }
   },
   "outputs": [],
   "source": [
    "def costFunction_hinge(theta, X, y):\n",
    "    m = y.size  # number of training examples\n",
    "\n",
    "    # You need to return the following variables correctly \n",
    "    J = 0\n",
    "    grad = np.zeros(theta.shape)\n",
    "\n",
    "    # ====================== YOUR CODE HERE ======================\n",
    "    J = 1/m*np.sum(np.maximum(-y*np.dot(X, theta), np.zeros(y.size)))\n",
    "\n",
    "    L = np.zeros(y.size)\n",
    "    for i in range(y.size):\n",
    "        if(y[i]*np.dot(theta, X[i]) <= 0):\n",
    "            L[i] = 1\n",
    "\n",
    "\n",
    "    \n",
    "    grad = 1/m*np.dot(-y*L,X)\n",
    "    \n",
    "\n",
    "    \n",
    "    # =============================================================\n",
    "    return J, grad"
   ]
  },
  {
   "cell_type": "markdown",
   "metadata": {
    "pycharm": {
     "name": "#%% md\n"
    }
   },
   "source": [
    "Lets run some checks:"
   ]
  },
  {
   "cell_type": "code",
   "execution_count": 19,
   "metadata": {
    "pycharm": {
     "name": "#%%\n"
    }
   },
   "outputs": [
    {
     "name": "stdout",
     "output_type": "stream",
     "text": [
      "Initiali theta was randomly initialized to: \t[1.0459, 0.8637, -0.1221]\n",
      "Cost at initial theta : 15.727\n",
      "Expected cost (approx): 26.506\n",
      "Gradient at initial theta:\n",
      "\t[0.4000, 20.8129, 21.8482]\n",
      "Expected gradients (approx):\n",
      "\t[0.4, 20.81, 21.85]\n"
     ]
    }
   ],
   "source": [
    "initial_theta = np.random.randn(n+1)\n",
    "print('Initiali theta was randomly initialized to: \\t[{:.4f}, {:.4f}, {:.4f}]'.format(*initial_theta))\n",
    "\n",
    "cost, grad = costFunction_hinge(initial_theta, X, y_hinge)\n",
    "print('Cost at initial theta : {:.3f}'.format(cost))\n",
    "print('Expected cost (approx): 26.506')\n",
    "print('Gradient at initial theta:')\n",
    "print('\\t[{:.4f}, {:.4f}, {:.4f}]'.format(*grad))\n",
    "print('Expected gradients (approx):\\n\\t[0.4, 20.81, 21.85]')"
   ]
  },
  {
   "cell_type": "markdown",
   "metadata": {
    "pycharm": {
     "name": "#%% md\n"
    }
   },
   "source": [
    "#### 1.2 Evaluting the perceptron classifier\n",
    "Now we will write `predict_perceptron` function that predicts the label based on the model's output. Here, we have the option to either predict 0,1 labels like the original format of the labels, or adapt to our new labeling changes and predict -1,+1 lables. Since the original data uses 0,1 labeling, we will also choose the same. However, we need to remember that for training our model, we use the modified labels `y_hinge` but for evaluation we have to use `y`.\n",
    "<a id=\"predict_perceptron\"></a>"
   ]
  },
  {
   "cell_type": "code",
   "execution_count": 32,
   "metadata": {
    "pycharm": {
     "name": "#%%\n"
    }
   },
   "outputs": [],
   "source": [
    "def predict_perceptron(theta, X):\n",
    "    \"\"\"\n",
    "    Predict whether the label is 0 or 1 using the perceptron model.\n",
    "    Computes the predictions for X using the correct threshold. Remember that\n",
    "    here, we are not dealing with a probability distribution estimation but \n",
    "    the model learns to predict a distance to the learnt decision boundary.\n",
    "    \n",
    "    Parameters\n",
    "    ----------\n",
    "    theta : array_like\n",
    "        Parameters for the perceptron. A vecotor of shape (n+1, ).\n",
    "    \n",
    "    X : array_like\n",
    "        The data to use for computing predictions. The rows is the number \n",
    "        of points to compute predictions, and columns is the number of\n",
    "        features.\n",
    "\n",
    "    Returns\n",
    "    -------\n",
    "    p : array_like\n",
    "        Predictions and 0 or 1 for each row in X. \n",
    "    \n",
    "    Instructions\n",
    "    ------------\n",
    "    Complete the following code to make predictions using your learned \n",
    "    parameters.You should set p to a vector of 0's and 1's    \n",
    "    \"\"\"\n",
    "    m = X.shape[0] # Number of training examples\n",
    "\n",
    "    # You need to return the following variables correctly\n",
    "    p = np.zeros(m)\n",
    "\n",
    "    # ====================== YOUR CODE HERE ======================\n",
    "\n",
    "    p = np.sign(X@theta)/2+0.5\n",
    "    \n",
    "    # ============================================================\n",
    "    return p"
   ]
  },
  {
   "cell_type": "markdown",
   "metadata": {
    "pycharm": {
     "name": "#%% md\n"
    }
   },
   "source": [
    "Now that we have everything ready, we just use the same optimization procedure using `scipy` to learn the parameters of the model. Later on, we will use `predict_perceptron` to evaluate the model on the training dataset and also compare it to logistic regression."
   ]
  },
  {
   "cell_type": "code",
   "execution_count": 33,
   "metadata": {
    "pycharm": {
     "name": "#%%\n"
    }
   },
   "outputs": [
    {
     "name": "stdout",
     "output_type": "stream",
     "text": [
      "Cost at theta found by optimize.minimize: 0.000\n",
      "Expected cost (approx): 0.004\n",
      "theta:\n",
      "\t[-0.021, 0.000, 0.000]\n",
      "Expected theta (approx):\n",
      "\t[-1.105, 0.009, 0.009]\n"
     ]
    },
    {
     "name": "stderr",
     "output_type": "stream",
     "text": [
      "/var/folders/kn/38lcz6wx6gb48hqw3w2kp6dc0000gn/T/ipykernel_11566/3416542330.py:10: DeprecationWarning: 'maxiter' has been deprecated in favor of 'maxfun' and will be removed in SciPy 1.11.0.\n",
      "  res_hinge = optimize.minimize(costFunction_hinge,\n"
     ]
    }
   ],
   "source": [
    "# set options for optimize.minimize\n",
    "options= {'maxiter': 400}\n",
    "\n",
    "# see documention for scipy's optimize.minimize  for description about\n",
    "# the different parameters\n",
    "# The function returns an object `OptimizeResult`\n",
    "# We use truncated Newton algorithm for optimization which is \n",
    "# equivalent to MATLAB's fminunc\n",
    "# See https://stackoverflow.com/questions/18801002/fminunc-alternate-in-numpy\n",
    "res_hinge = optimize.minimize(costFunction_hinge,\n",
    "                        initial_theta,\n",
    "                        (X, y_hinge),\n",
    "                        jac=True,\n",
    "                        method='TNC',\n",
    "                        options=options)\n",
    "\n",
    "# the fun property of `OptimizeResult` object returns\n",
    "# the value of costFunction at optimized theta\n",
    "cost_hinge = res_hinge.fun\n",
    "\n",
    "# the optimized theta is in the x property\n",
    "theta_hinge = res_hinge.x\n",
    "\n",
    "# Print theta to screen\n",
    "print('Cost at theta found by optimize.minimize: {:.3f}'.format(cost_hinge))\n",
    "print('Expected cost (approx): 0.004')\n",
    "\n",
    "print('theta:')\n",
    "print('\\t[{:.3f}, {:.3f}, {:.3f}]'.format(*theta_hinge))\n",
    "print('Expected theta (approx):\\n\\t[-1.105, 0.009, 0.009]')"
   ]
  },
  {
   "cell_type": "code",
   "execution_count": 34,
   "metadata": {
    "pycharm": {
     "name": "#%%\n"
    },
    "scrolled": true
   },
   "outputs": [
    {
     "name": "stdout",
     "output_type": "stream",
     "text": [
      "Train Accuracy: 89.00 %\n",
      "Expected accuracy (approx): 89.00 %\n"
     ]
    }
   ],
   "source": [
    "# Compute accuracy on our training set\n",
    "p_hinge = predict_perceptron(theta_hinge, X)\n",
    "print('Train Accuracy: {:.2f} %'.format(np.mean(p_hinge == y) * 100))\n",
    "print('Expected accuracy (approx): 89.00 %')"
   ]
  },
  {
   "cell_type": "code",
   "execution_count": 27,
   "metadata": {
    "pycharm": {
     "name": "#%%\n"
    },
    "scrolled": true
   },
   "outputs": [
    {
     "data": {
      "image/png": "[encoded data removed]",
      "text/plain": [
       "<Figure size 640x480 with 1 Axes>"
      ]
     },
     "metadata": {},
     "output_type": "display_data"
    }
   ],
   "source": [
    "# Finally, let`s take a look at the hinge loss classifiers decision boundary\n",
    "utils.plotDecisionBoundary(utils.plotData, theta_hinge, X, y)"
   ]
  },
  {
   "cell_type": "code",
   "execution_count": 28,
   "metadata": {
    "pycharm": {
     "name": "#%%\n"
    }
   },
   "outputs": [
    {
     "data": {
      "image/png": "[encoded data removed]",
      "text/plain": [
       "<Figure size 640x480 with 1 Axes>"
      ]
     },
     "metadata": {},
     "output_type": "display_data"
    }
   ],
   "source": [
    "# and compare it to the one obtained from logistic regression\n",
    "theta = [-25.161, 0.206, 0.201]  # obtained from exercise 2\n",
    "utils.plotDecisionBoundary(utils.plotData, theta, X, y)"
   ]
  },
  {
   "cell_type": "markdown",
   "metadata": {
    "pycharm": {
     "name": "#%% md\n"
    }
   },
   "source": [
    "As you can see, using both methods led to the same accuracy (89%). However, if you look more carefully at both plots, you can see that there are slight differences in our solutions and the models we trained. But in general, you should know that choosing the right model and loss functions plays a crucial role. Different models, especially on more complicated datasets, could lead to different solutions to the task."
   ]
  },
  {
   "attachments": {},
   "cell_type": "markdown",
   "metadata": {
    "pycharm": {
     "name": "#%% md\n"
    }
   },
   "source": [
    "<a id=\"section_2\"></a>\n",
    "### 2 Random Forest\n",
    "\n",
    "In practice you will often rely on already existing and optimized implementations for many algorithms. As discussed in the lecture the random forest is one of the best “off-the-shelf” classifiers we have.  To get used to using existing models you will use the sklearn random forest implementation [1]. The goal is to learn how to classify digits, for which we rely on an existing data set provided by sklearn [2]. Perform the following steps:\n",
    "\n",
    "1. Prepare the data from load_digits as follows:\n",
    "\n",
    "    - Split the data into train, validation and test set.\n",
    "    - Validation and test set should each contain N=200 data points with the rest belonging to the training set.\n",
    "\n",
    "\n",
    "2. Train the following combination of parameters on the train set and evaluate the learned model on the validation set.\n",
    "    - Nr of trees in {5,10,20,100}\n",
    "    - Split criterion in {Gini, Entropy}.\n",
    "    - Depth of the individual trees in {2,5,10,pure}\n",
    "        where pure refers to growing each tree until each leaf is pure.\n",
    "    - use the random state \"1234\" for all calculations you do in numpy and sklearn.\n",
    "\n",
    "\n",
    "3. Finally for all set of hyperparameters that perform best on the training set evaluate the performance on the test set.\n",
    "\n",
    "[1]: [ https://scikit-learn.org/stable/modules/generated/sklearn.ensemble.RandomForestClassifier.html](https://scikit-learn.org/stable/modules/generated/sklearn.ensemble.RandomForestClassifier.html)\n",
    "\n",
    "[2]: [ https://scikit-learn.org/stable/modules/generated/sklearn.datasets.load_digits.html](https://scikit-learn.org/stable/modules/generated/sklearn.datasets.load_digits.html)"
   ]
  },
  {
   "cell_type": "code",
   "execution_count": 3,
   "metadata": {
    "pycharm": {
     "name": "#%%\n"
    }
   },
   "outputs": [],
   "source": [
    "from sklearn.datasets import load_digits\n",
    "from sklearn.model_selection import train_test_split\n",
    "from sklearn.ensemble import RandomForestClassifier\n",
    "import numpy as np\n",
    "np.random.seed(1234)\n",
    "\n",
    "digits, labels = load_digits(return_X_y=True)"
   ]
  },
  {
   "cell_type": "markdown",
   "metadata": {
    "pycharm": {
     "name": "#%% md\n"
    }
   },
   "source": [
    "<a id=\"split_data\"></a>"
   ]
  },
  {
   "cell_type": "code",
   "execution_count": 4,
   "metadata": {
    "pycharm": {
     "name": "#%%\n"
    }
   },
   "outputs": [],
   "source": [
    "def split_data(digits, labels):\n",
    "    \"\"\"\n",
    "    Split the data and the labels given according to the correct size.\n",
    "    Use the function `train_test_split` as shown in the import.\n",
    "    Make sure you use the random state \"1234\".\n",
    "    \n",
    "    Parameters\n",
    "    ----------\n",
    "    digits : array_like\n",
    "        The digits of the whole dataset.\n",
    "    \n",
    "    labels : array_like\n",
    "        The labels of the whole dataset.\n",
    "\n",
    "    Returns\n",
    "    -------\n",
    "    (X_train, y_train, X_test, y_test, X_val, y_val) : array_like\n",
    "        The corresponding splits of the 3 group.\n",
    "    \n",
    "    Instructions\n",
    "    ------------\n",
    "    Look at the following code and make sure you understand everything before moving on! \n",
    "    \"\"\"\n",
    "    # ====================== YOUR CODE HERE ======================\n",
    "\n",
    "    X_train, X_rest, y_train, y_rest = train_test_split(digits, labels, test_size=400, random_state=1234)\n",
    "    X_test, X_val, y_test, y_val = train_test_split(X_rest, y_rest, test_size=200, random_state=1234)\n",
    "    \n",
    "    # ============================================================\n",
    "\n",
    "    return X_train, y_train, X_test, y_test, X_val, y_val"
   ]
  },
  {
   "cell_type": "code",
   "execution_count": 5,
   "metadata": {
    "pycharm": {
     "name": "#%%\n"
    }
   },
   "outputs": [],
   "source": [
    "X_train, y_train, X_test, y_test, X_val, y_val = split_data(digits, labels)"
   ]
  },
  {
   "cell_type": "markdown",
   "metadata": {
    "pycharm": {
     "name": "#%% md\n"
    }
   },
   "source": [
    "<a id=\"train_RF_combination\"></a>"
   ]
  },
  {
   "cell_type": "code",
   "execution_count": 23,
   "metadata": {
    "pycharm": {
     "name": "#%%\n"
    }
   },
   "outputs": [],
   "source": [
    "def train_RF_combination(n_tree_list, criterion_list, depth_list):\n",
    "    \"\"\"\n",
    "    Train the random forest with number of trees in n_tree_list, e.g. {5,10,20,100},\n",
    "    split criterion in criterion_list e.g. {Gini, Entropy} and depth in depth_list e.g. {2,5,10,pure}.\n",
    "    CAUTION: Make sure you use the random state \"1234\".\n",
    "    \n",
    "    Parameters\n",
    "    ----------\n",
    "    n_tree_list : array_like\n",
    "        list/array of number of trees to include in the grid search.\n",
    "    \n",
    "    criterion_list : array_like\n",
    "        list/array of criterion to use.\n",
    "        \n",
    "    depth_list : array_like\n",
    "        list/array of depth to iterate over.\n",
    "\n",
    "    Returns\n",
    "    -------\n",
    "    best_param_list : array_like\n",
    "        list/array of (n_tree, criterion, depth) tuples that all reach the best validation accuracy possible.\n",
    "        CAUTION: That might be more than one combination of (n_tree, criterion, depth)!\n",
    "    \n",
    "    Instructions\n",
    "    ------------\n",
    "    Complete the following code to return the best_param_list. \n",
    "    \"\"\"\n",
    "    best_val_acc = 0\n",
    "    best_param_list = []  # list of tuples of (n_tree, criterion, depth)!\n",
    "    scores_params = []\n",
    "\n",
    "    for n_tree in n_tree_list:\n",
    "        for criterion in criterion_list:\n",
    "            for depth in depth_list: \n",
    "                # ====================== YOUR CODE HERE ======================\n",
    "                forest = RandomForestClassifier(\n",
    "                    n_estimators=n_tree, criterion=criterion, max_depth=depth, random_state=1234)\n",
    "                forest.fit(X_train, y_train)\n",
    "                score = forest.score(X_val, y_val)\n",
    "                if(score >= best_val_acc):\n",
    "                    if(score > best_val_acc):\n",
    "                        best_val_acc = score\n",
    "                        best_param_list = []\n",
    "                    best_param_list.append({\"n_tree\":n_tree, \"criterion\":criterion, \"depth\":depth})\n",
    "                \n",
    "                # ============================================================\n",
    "    print(\"Best validation accuracy achieved: \" + str(best_val_acc))\n",
    "    \n",
    "    return best_param_list"
   ]
  },
  {
   "cell_type": "code",
   "execution_count": 26,
   "metadata": {
    "pycharm": {
     "name": "#%%\n"
    },
    "scrolled": false
   },
   "outputs": [
    {
     "name": "stdout",
     "output_type": "stream",
     "text": [
      "Best validation accuracy achieved: 0.97\n",
      "[{'n_tree': 20, 'criterion': 'gini', 'depth': None}, {'n_tree': 100, 'criterion': 'gini', 'depth': None}, {'n_tree': 100, 'criterion': 'entropy', 'depth': 10}, {'n_tree': 100, 'criterion': 'entropy', 'depth': None}]\n"
     ]
    }
   ],
   "source": [
    "# call your implementation of train_RF_combination with the correct values here\n",
    "# ====================== YOUR CODE HERE ======================\n",
    "n_trees = [5, 10, 20, 100]\n",
    "criteria = [\"gini\", \"entropy\"]\n",
    "depths = [2, 5, 10, None]\n",
    "best_param_list = train_RF_combination(n_trees, criteria, depths)\n",
    "print(best_param_list)\n",
    "\n",
    "# ============================================================"
   ]
  },
  {
   "cell_type": "code",
   "execution_count": 22,
   "metadata": {
    "pycharm": {
     "name": "#%%\n"
    }
   },
   "outputs": [],
   "source": [
    "# Since we have already found the best hyperparameters, we should include the validation set to\n",
    "# the training data for the final model\n",
    "X_train_val = np.concatenate((X_train, X_val), axis=0)\n",
    "y_train_val = np.concatenate((y_train, y_val), axis=0)"
   ]
  },
  {
   "cell_type": "markdown",
   "metadata": {
    "pycharm": {
     "name": "#%% md\n"
    }
   },
   "source": [
    "<a id=\"evaluate\"></a>"
   ]
  },
  {
   "cell_type": "code",
   "execution_count": 28,
   "metadata": {
    "pycharm": {
     "name": "#%%\n"
    }
   },
   "outputs": [],
   "source": [
    "def evaluate(X_train_val, y_train_val, X_test, y_test, best_param_list):\n",
    "    \"\"\"\n",
    "    Evaluate the random forest model using all the combinations of (n_tree, criterion, depth) you found \n",
    "    to perform the best.\n",
    "    NOTE: Can be several combinations!\n",
    "    Make sure you use the random state \"1234\".\n",
    "    \n",
    "    \n",
    "    Parameters\n",
    "    ----------\n",
    "    X_train_val : array_like\n",
    "        list/array of digits of the combined train and validation dataset.\n",
    "    \n",
    "    y_train_val : array_like\n",
    "        list/array of labels of the combined train and validation dataset.\n",
    "        \n",
    "    X_test : array_like\n",
    "        list/array of digits of the test dataset.\n",
    "        \n",
    "    y_test : array_like\n",
    "        list/array of labels of the test dataset.\n",
    "    \n",
    "    best_param_list: array_like\n",
    "        list of combinations of (n_tree, criterion, depth) you found to perform best\n",
    "\n",
    "    Returns\n",
    "    -------\n",
    "    test_acc_list : array_like\n",
    "        list/array of the test accuracy for your trained models.\n",
    "    \n",
    "    Instructions\n",
    "    ------------\n",
    "    Complete the following code to return the test_acc_list. \n",
    "    \"\"\"\n",
    "    \n",
    "    test_acc_list = []\n",
    "    for best_param in best_param_list:\n",
    "        # ====================== YOUR CODE HERE ======================\n",
    "        n_tree = best_param[\"n_tree\"]\n",
    "        criterion = best_param[\"criterion\"]\n",
    "        depth = best_param[\"depth\"]\n",
    "        forest = RandomForestClassifier(\n",
    "            n_estimators=n_tree, criterion=criterion, max_depth=depth, random_state=1234)\n",
    "        \n",
    "        forest.fit(X_train_val, y_train_val)\n",
    "        score = forest.score(X_test, y_test)\n",
    "\n",
    "        test_acc_list.append(score)\n",
    "        \n",
    "        \n",
    "        # ============================================================\n",
    "\n",
    "    return test_acc_list"
   ]
  },
  {
   "cell_type": "code",
   "execution_count": 29,
   "metadata": {
    "pycharm": {
     "name": "#%%\n"
    }
   },
   "outputs": [
    {
     "name": "stdout",
     "output_type": "stream",
     "text": [
      "[0.98, 0.995, 0.99, 0.995]\n"
     ]
    }
   ],
   "source": [
    "# call your implementation of evaluate with the correct values here\n",
    "# ====================== YOUR CODE HERE ======================\n",
    "\n",
    "test_acc_list = evaluate(X_train_val, y_train_val, X_test, y_test, best_param_list)\n",
    "\n",
    "# ============================================================\n",
    "print(test_acc_list)"
   ]
  },
  {
   "cell_type": "markdown",
   "metadata": {
    "pycharm": {
     "name": "#%% md\n"
    }
   },
   "source": [
    "Optional!\n",
    "Think about the following: Do you see any problem with this approach? If so, why?"
   ]
  },
  {
   "cell_type": "code",
   "execution_count": null,
   "metadata": {
    "pycharm": {
     "name": "#%%\n"
    }
   },
   "outputs": [],
   "source": []
  }
 ],
 "metadata": {
  "kernelspec": {
   "display_name": "mlia23",
   "language": "python",
   "name": "python3"
  },
  "language_info": {
   "codemirror_mode": {
    "name": "ipython",
    "version": 3
   },
   "file_extension": ".py",
   "mimetype": "text/x-python",
   "name": "python",
   "nbconvert_exporter": "python",
   "pygments_lexer": "ipython3",
   "version": "3.9.16"
  }
 },
 "nbformat": 4,
 "nbformat_minor": 2
}
