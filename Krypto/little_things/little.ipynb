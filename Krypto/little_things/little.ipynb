{
 "cells": [
  {
   "cell_type": "code",
   "execution_count": 3,
   "metadata": {},
   "outputs": [
    {
     "ename": "ModuleNotFoundError",
     "evalue": "No module named 'sage.all'",
     "output_type": "error",
     "traceback": [
      "\u001b[0;31m---------------------------------------------------------------------------\u001b[0m",
      "\u001b[0;31mModuleNotFoundError\u001b[0m                       Traceback (most recent call last)",
      "\u001b[1;32m/home/jerome/Uni_Master/Krypto/little_things/little.ipynb Cell 1\u001b[0m line \u001b[0;36m4\n\u001b[1;32m      <a href='vscode-notebook-cell:/home/jerome/Uni_Master/Krypto/little_things/little.ipynb#W0sZmlsZQ%3D%3D?line=1'>2</a>\u001b[0m \u001b[39mfrom\u001b[39;00m \u001b[39mCrypto\u001b[39;00m\u001b[39m.\u001b[39;00m\u001b[39mUtil\u001b[39;00m\u001b[39m.\u001b[39;00m\u001b[39mnumber\u001b[39;00m \u001b[39mimport\u001b[39;00m bytes_to_long, long_to_bytes, inverse\n\u001b[1;32m      <a href='vscode-notebook-cell:/home/jerome/Uni_Master/Krypto/little_things/little.ipynb#W0sZmlsZQ%3D%3D?line=2'>3</a>\u001b[0m \u001b[39mimport\u001b[39;00m \u001b[39mmath\u001b[39;00m\n\u001b[0;32m----> <a href='vscode-notebook-cell:/home/jerome/Uni_Master/Krypto/little_things/little.ipynb#W0sZmlsZQ%3D%3D?line=3'>4</a>\u001b[0m \u001b[39mfrom\u001b[39;00m \u001b[39mutils\u001b[39;00m \u001b[39mimport\u001b[39;00m \u001b[39m*\u001b[39m\n\u001b[1;32m      <a href='vscode-notebook-cell:/home/jerome/Uni_Master/Krypto/little_things/little.ipynb#W0sZmlsZQ%3D%3D?line=4'>5</a>\u001b[0m \u001b[39mfrom\u001b[39;00m \u001b[39msage\u001b[39;00m\u001b[39m.\u001b[39;00m\u001b[39mall\u001b[39;00m \u001b[39mimport\u001b[39;00m \u001b[39m*\u001b[39m\n\u001b[1;32m      <a href='vscode-notebook-cell:/home/jerome/Uni_Master/Krypto/little_things/little.ipynb#W0sZmlsZQ%3D%3D?line=5'>6</a>\u001b[0m \u001b[39m# from secret import flag\u001b[39;00m\n\u001b[1;32m      <a href='vscode-notebook-cell:/home/jerome/Uni_Master/Krypto/little_things/little.ipynb#W0sZmlsZQ%3D%3D?line=6'>7</a>\u001b[0m \n\u001b[1;32m      <a href='vscode-notebook-cell:/home/jerome/Uni_Master/Krypto/little_things/little.ipynb#W0sZmlsZQ%3D%3D?line=7'>8</a>\u001b[0m \u001b[39m# Utility functions\u001b[39;00m\n",
      "File \u001b[0;32m~/Uni_Master/Krypto/little_things/utils.py:79\u001b[0m\n\u001b[1;32m     76\u001b[0m \tls \u001b[39m=\u001b[39m \u001b[39mpow\u001b[39m(a, (p \u001b[39m-\u001b[39m \u001b[39m1\u001b[39m) \u001b[39m>>\u001b[39m \u001b[39m1\u001b[39m, p)\n\u001b[1;32m     77\u001b[0m \t\u001b[39mreturn\u001b[39;00m \u001b[39m-\u001b[39m\u001b[39m1\u001b[39m \u001b[39mif\u001b[39;00m ls \u001b[39m==\u001b[39m p \u001b[39m-\u001b[39m \u001b[39m1\u001b[39m \u001b[39melse\u001b[39;00m ls\n\u001b[0;32m---> 79\u001b[0m \u001b[39mfrom\u001b[39;00m \u001b[39msage\u001b[39;00m\u001b[39m.\u001b[39;00m\u001b[39mall\u001b[39;00m \u001b[39mimport\u001b[39;00m \u001b[39m*\u001b[39m\n",
      "\u001b[0;31mModuleNotFoundError\u001b[0m: No module named 'sage.all'"
     ]
    }
   ],
   "source": [
    "from Crypto.PublicKey import RSA\n",
    "from Crypto.Util.number import bytes_to_long, long_to_bytes, inverse\n",
    "import math\n",
    "from utils import *\n",
    "from sage.all import *\n",
    "# from secret import flag\n",
    "\n",
    "# Utility functions\n",
    "def chunks(l : list, n : int):\n",
    "\t\"\"\"Yield successive n-sized chunks from l.\"\"\"\n",
    "\tfor i in range(0, len(l), n):\n",
    "\t\tyield l[i:i + n]\n",
    "\n",
    "# Encryption Methods\n",
    "\n",
    "def encrypt1(message : bytes, key):\n",
    "\treturn pow(bytes_to_long(message), key.e, key.n)\n",
    "\n",
    "# get the e-th root of ciphertext\n",
    "def decrypt1(ciphertext, key):\n",
    "\tresult = round(int(ciphertext)**(1.0/key.e))\n",
    "\treturn long_to_bytes(result)\n",
    "\n",
    "def encrypt2(message : bytes, key):\n",
    "\tr = 440207993569202145226583596168668480279612819965794541699444606998884126327457148126985393713331187326269759129786151827315472662545169229810947283583185940188753204507272015410292547991341421865580434571907487831150551894581100517979422062705719326708845893428059355370710948150227146186294791368354716644074593401065391186346804909062169792789820494220878930621918113842522702840719980702035210790221375054988484360489658798914894297868096164068410349956337623656160859441076123257680687409511415929920760564728135223020626088404535712263440453673827848602042008666139187037894104559208209842699418459046227548274369494390325913146860043311029683073260582295749123383864290580535513555624777329124481863968842759997800343985031020803958083752044340070928621625315960187682219676298491723091409452028712084469300912870666232227855276035007617694078713741109322804779068398754913109357219461822870410839177245857661666072743515936844588884933042735358697038815104339349515893292336683598862297813136372910247113611321570981701692485394194808371648912273085184798875264734186133928625551638315540870469114902162342732282838097849696596328601119607487566568239039051073511095284994830149350910188968078336841520356458362003852374562021\n",
    "\treturn pow(bytes_to_long(message) * r, key.e, key.n)\n",
    "\n",
    "def decrypt2(ciphertext, key, r=440207993569202145226583596168668480279612819965794541699444606998884126327457148126985393713331187326269759129786151827315472662545169229810947283583185940188753204507272015410292547991341421865580434571907487831150551894581100517979422062705719326708845893428059355370710948150227146186294791368354716644074593401065391186346804909062169792789820494220878930621918113842522702840719980702035210790221375054988484360489658798914894297868096164068410349956337623656160859441076123257680687409511415929920760564728135223020626088404535712263440453673827848602042008666139187037894104559208209842699418459046227548274369494390325913146860043311029683073260582295749123383864290580535513555624777329124481863968842759997800343985031020803958083752044340070928621625315960187682219676298491723091409452028712084469300912870666232227855276035007617694078713741109322804779068398754913109357219461822870410839177245857661666072743515936844588884933042735358697038815104339349515893292336683598862297813136372910247113611321570981701692485394194808371648912273085184798875264734186133928625551638315540870469114902162342732282838097849696596328601119607487566568239039051073511095284994830149350910188968078336841520356458362003852374562021):\n",
    "\ttry:\n",
    "\t\tr_inv = pow(r, -1, key.n)\n",
    "\texcept ValueError:\n",
    "\t\treturn b''\n",
    "\tm_e = (pow(r_inv, key.e, key.n) * int(ciphertext)) % key.n\n",
    "\ttry:\n",
    "\t\treturn decrypt1(m_e, key)\n",
    "\texcept OverflowError:\n",
    "\t\treturn b''\n",
    "\n",
    "def encrypt3(message : bytes, key):\n",
    "\tbytelength = int(math.floor(math.log2(key.n))) // 8\n",
    "\tmsg = message + b'\\x00' * (bytelength - len(message))\n",
    "\treturn pow(bytes_to_long(msg), key.e, key.n)\n",
    "\n",
    "def decrypt3(ciphertext, key):\n",
    "\tbytelength = int(math.floor(math.log2(key.n))) // 8\n",
    "\tr = 2 ** (8 * (bytelength- 17))\n",
    "\treturn decrypt2(ciphertext, key, r)\n",
    "\n",
    "def encrypt4(message : bytes, key):\n",
    "\tbytelength = int(math.floor(math.log2(key.n))) // 8\n",
    "\tmsg = message * (bytelength // len(message))\n",
    "\treturn pow(bytes_to_long(msg), key.e, key.n)\n",
    "\n",
    "def decrypt4(ciphertext, key):\n",
    "\tfor j in range(15, 16):\n",
    "\t\tfor logm in range(272, 273):\n",
    "\t\t\t# create r of form 1000100010001 where 0001 is logm long\n",
    "\t\t\tr = 0\n",
    "\t\t\tfor i in range(j):\n",
    "\t\t\t\tr += 2 ** (logm * i)\n",
    "\t\t\tresult = decrypt2(ciphertext, key, r)\n",
    "\t\t\tif result != b'':\n",
    "\t\t\t\t# print(j, logm, result)\n",
    "\t\t\t\treturn result\n",
    "\n",
    "def encrypt5(message : bytes, key):\n",
    "\tbytelength = int(math.floor(math.log2(key.n))) // 8\n",
    "\tmsg = b'\\xff' * (bytelength - len(message)) + message\n",
    "\treturn pow(bytes_to_long(msg), key.e, key.n)\n",
    "\n",
    "def decrypt5(ciphertext, key):\n",
    "\tP = PolynomialRing(Zmod(key.n), 'x', implementation='NTL')\n",
    "\t(x,) = P._first_ngens(1)\n",
    "\tfor m_length in range(0, 8*18):\n",
    "\t\tf = (((2**(4096 - (17 * 8 - 8 * m_length)) - 2 ** (8 * m_length) +x )) ** key.e) - ciphertext\n",
    "\t\tm = f.small_roots()\n",
    "\t\tif m:\n",
    "\t\t\ttry:\n",
    "\t\t\t\treturn long_to_bytes(m[0])\n",
    "\t\t\texcept UnicodeDecodeError:\n",
    "\t\t\t\tpass\n",
    "\n",
    "# Actual code\n",
    "messages = [x for x in open('output','rb').read().split(b'\\n') if x != b'']\n",
    "\n",
    "key = RSA.importKey(open('pubkey.pem','r').read())\n",
    "\n",
    "encryptors = [encrypt1,encrypt2,encrypt3,encrypt4,encrypt5]\n",
    "decryptors = [decrypt1,decrypt2, decrypt3, decrypt4, decrypt5]\n",
    "\n",
    "decrypted_text = b''\n",
    "\n",
    "# fill with 50 zeroes\n",
    "listi = [0]*50\n",
    "\n",
    "for i in range(len(decryptors)):\n",
    "\t# combine the decrypted texts, though remove null bytes\n",
    "\t# decrypted_text += decryptors[i](messages[i], key)\n",
    "\tresult = decryptors[i](messages[i], key)\n",
    "\tresult_list = list(result)[:6]\n",
    "\tfor j in range(len(result_list)):\n",
    "\t\tit = i*6+j\n",
    "\t\tlisti[it] = (listi[it] + result_list[j]) % 256\n",
    "\tdecrypted_text += result.replace(b'\\x00',b'')\n",
    "\n",
    "result = bytes(listi)\n",
    "print(result)\n",
    "\n",
    "\n",
    "print(decrypted_text)"
   ]
  },
  {
   "cell_type": "code",
   "execution_count": 18,
   "metadata": {},
   "outputs": [
    {
     "name": "stdout",
     "output_type": "stream",
     "text": [
      "[b'Arithm', b'eticEr', b'rorhel', b'lo was', b' geht']\n"
     ]
    }
   ],
   "source": [
    "teststring = \"ArithmeticErrorhello was geht\".encode()\n",
    "chunky = list(chunks(teststring, len(teststring)//5 + 1))\n",
    "print(chunky)"
   ]
  },
  {
   "cell_type": "code",
   "execution_count": 51,
   "metadata": {},
   "outputs": [
    {
     "name": "stdout",
     "output_type": "stream",
     "text": [
      "10\n"
     ]
    }
   ],
   "source": [
    "p = 11\n",
    "a = 10\n",
    "b = pow(a, -1, p)\n",
    "print(b)"
   ]
  },
  {
   "cell_type": "code",
   "execution_count": 105,
   "metadata": {},
   "outputs": [
    {
     "name": "stdout",
     "output_type": "stream",
     "text": [
      "33\n",
      "0b100001\n"
     ]
    }
   ],
   "source": [
    "# create r of form 1000100010001 binary where 0001 is logm long\n",
    "print(r)\n",
    "# print r in binary\n",
    "print(bin(r))"
   ]
  },
  {
   "cell_type": "code",
   "execution_count": 130,
   "metadata": {},
   "outputs": [
    {
     "name": "stdout",
     "output_type": "stream",
     "text": [
      "0b111000\n"
     ]
    }
   ],
   "source": [
    "# 0b1000 * 0b0111\n",
    "x = 0b1000\n",
    "y = 0b0111\n",
    "res = bin(x*y)\n",
    "print(res)"
   ]
  },
  {
   "cell_type": "code",
   "execution_count": null,
   "metadata": {},
   "outputs": [],
   "source": []
  }
 ],
 "metadata": {
  "kernelspec": {
   "display_name": ".venv",
   "language": "python",
   "name": "python3"
  },
  "language_info": {
   "codemirror_mode": {
    "name": "ipython",
    "version": 3
   },
   "file_extension": ".py",
   "mimetype": "text/x-python",
   "name": "python",
   "nbconvert_exporter": "python",
   "pygments_lexer": "ipython3",
   "version": "3.11.6"
  }
 },
 "nbformat": 4,
 "nbformat_minor": 2
}
