{
 "cells": [
  {
   "cell_type": "code",
   "execution_count": 25,
   "metadata": {},
   "outputs": [],
   "source": [
    "with open('shadow', 'r') as f:\n",
    "    user_hashes = f.read().split('\\n')\n",
    "\n",
    "with open(\"john.pot\", \"r\") as f:\n",
    "    hash_passwords = f.read().split('\\n')\n",
    "\n",
    "# remove lines which dont have 3 \"$\" signs then sort user_hashes by salt\n",
    "user_hashes = [x for x in user_hashes if x.count('$') == 3]\n",
    "user_hashes.sort(key=lambda x: x.split(':')[1])\n",
    "\n",
    "hash_passwords = [x for x in hash_passwords if x.count('$') == 3]\n",
    "hash_passwords.sort(key=lambda x: x.split(':')[0])"
   ]
  },
  {
   "cell_type": "code",
   "execution_count": 26,
   "metadata": {},
   "outputs": [
    {
     "name": "stdout",
     "output_type": "stream",
     "text": [
      "195083\n",
      "109385\n"
     ]
    }
   ],
   "source": [
    "print(len(user_hashes))\n",
    "print(len(hash_passwords))"
   ]
  },
  {
   "cell_type": "code",
   "execution_count": 27,
   "metadata": {},
   "outputs": [],
   "source": [
    "# john.pot already sorted by salt\n",
    "user_passwd = {}\n",
    "j = 0\n",
    "for i in range(len(hash_passwords)):\n",
    "    while i+j < len(user_hashes) and user_hashes[i+j].split(\":\")[1].split('$')[3] != hash_passwords[i].split(':')[0].split('$')[3]:\n",
    "        j += 1\n",
    "    # print(user_hashes[i+j].split(\":\")[0], hash_passwords[i].split(':')[1])\n",
    "    user_passwd[user_hashes[i+j].split(\":\")[0]] = hash_passwords[i].split(':')[1]"
   ]
  },
  {
   "cell_type": "code",
   "execution_count": 32,
   "metadata": {},
   "outputs": [],
   "source": [
    "# write as \"user:passwd\" for each user\n",
    "with open('user_passwd.json', 'w') as f:\n",
    "    for k, v in user_passwd.items():\n",
    "        f.write(k + ':' + v + '\\n')"
   ]
  },
  {
   "cell_type": "code",
   "execution_count": 31,
   "metadata": {},
   "outputs": [
    {
     "name": "stdout",
     "output_type": "stream",
     "text": [
      "avery123\n"
     ]
    }
   ],
   "source": [
    "print(user_passwd['gECayqPD34'])"
   ]
  }
 ],
 "metadata": {
  "kernelspec": {
   "display_name": "mlia23",
   "language": "python",
   "name": "python3"
  },
  "language_info": {
   "codemirror_mode": {
    "name": "ipython",
    "version": 3
   },
   "file_extension": ".py",
   "mimetype": "text/x-python",
   "name": "python",
   "nbconvert_exporter": "python",
   "pygments_lexer": "ipython3",
   "version": "3.9.16"
  }
 },
 "nbformat": 4,
 "nbformat_minor": 2
}
