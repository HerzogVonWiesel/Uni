{
 "cells": [
  {
   "cell_type": "code",
   "execution_count": 1,
   "metadata": {},
   "outputs": [
    {
     "name": "stdout",
     "output_type": "stream",
     "text": [
      "Collecting pwntools\n",
      "  Downloading pwntools-4.11.0-py2.py3-none-any.whl (11.7 MB)\n",
      "     --------------------------------------- 11.7/11.7 MB 11.7 MB/s eta 0:00:00\n",
      "Collecting pyserial>=2.7\n",
      "  Downloading pyserial-3.5-py2.py3-none-any.whl (90 kB)\n",
      "     ---------------------------------------- 90.6/90.6 kB 5.4 MB/s eta 0:00:00\n",
      "Requirement already satisfied: six>=1.12.0 in c:\\users\\jerome\\.conda\\envs\\mlia23\\lib\\site-packages (from pwntools) (1.16.0)\n",
      "Collecting colored-traceback\n",
      "  Downloading colored-traceback-0.3.0.tar.gz (3.8 kB)\n",
      "  Preparing metadata (setup.py): started\n",
      "  Preparing metadata (setup.py): finished with status 'done'\n",
      "Collecting capstone>=3.0.5rc2\n",
      "  Downloading capstone-5.0.1-py3-none-win_amd64.whl (1.3 MB)\n",
      "     ---------------------------------------- 1.3/1.3 MB 11.6 MB/s eta 0:00:00\n",
      "Collecting mako>=1.0.0\n",
      "  Downloading Mako-1.3.0-py3-none-any.whl (78 kB)\n",
      "     ---------------------------------------- 78.6/78.6 kB ? eta 0:00:00\n",
      "Requirement already satisfied: pygments>=2.0 in c:\\users\\jerome\\.conda\\envs\\mlia23\\lib\\site-packages (from pwntools) (2.15.0)\n",
      "Collecting unicorn>=1.0.2rc1\n",
      "  Downloading unicorn-2.0.1.post1-py2.py3-none-win_amd64.whl (15.7 MB)\n",
      "     --------------------------------------- 15.7/15.7 MB 11.5 MB/s eta 0:00:00\n",
      "Requirement already satisfied: requests>=2.0 in c:\\users\\jerome\\.conda\\envs\\mlia23\\lib\\site-packages (from pwntools) (2.30.0)\n",
      "Requirement already satisfied: pysocks in c:\\users\\jerome\\.conda\\envs\\mlia23\\lib\\site-packages (from pwntools) (1.7.1)\n",
      "Collecting ropgadget>=5.3\n",
      "  Downloading ROPGadget-7.4-py3-none-any.whl (32 kB)\n",
      "Requirement already satisfied: packaging in c:\\users\\jerome\\.conda\\envs\\mlia23\\lib\\site-packages (from pwntools) (23.1)\n",
      "Collecting pyelftools>=0.24\n",
      "  Downloading pyelftools-0.30-py2.py3-none-any.whl (177 kB)\n",
      "     ------------------------------------- 177.6/177.6 kB 10.5 MB/s eta 0:00:00\n",
      "Collecting rpyc\n",
      "  Downloading rpyc-5.3.1-py3-none-any.whl (74 kB)\n",
      "     ---------------------------------------- 74.0/74.0 kB 4.0 MB/s eta 0:00:00\n",
      "Requirement already satisfied: python-dateutil in c:\\users\\jerome\\.conda\\envs\\mlia23\\lib\\site-packages (from pwntools) (2.8.2)\n",
      "Collecting intervaltree>=3.0\n",
      "  Downloading intervaltree-3.1.0.tar.gz (32 kB)\n",
      "  Preparing metadata (setup.py): started\n",
      "  Preparing metadata (setup.py): finished with status 'done'\n",
      "Requirement already satisfied: psutil>=3.3.0 in c:\\users\\jerome\\.conda\\envs\\mlia23\\lib\\site-packages (from pwntools) (5.9.0)\n",
      "Collecting paramiko>=1.15.2\n",
      "  Downloading paramiko-3.3.1-py3-none-any.whl (224 kB)\n",
      "     ------------------------------------- 224.8/224.8 kB 13.4 MB/s eta 0:00:00\n",
      "Requirement already satisfied: pip>=6.0.8 in c:\\users\\jerome\\.conda\\envs\\mlia23\\lib\\site-packages (from pwntools) (23.0.1)\n",
      "Requirement already satisfied: sortedcontainers in c:\\users\\jerome\\.conda\\envs\\mlia23\\lib\\site-packages (from pwntools) (2.4.0)\n",
      "Requirement already satisfied: MarkupSafe>=0.9.2 in c:\\users\\jerome\\.conda\\envs\\mlia23\\lib\\site-packages (from mako>=1.0.0->pwntools) (2.1.2)\n",
      "Collecting pynacl>=1.5\n",
      "  Downloading PyNaCl-1.5.0-cp36-abi3-win_amd64.whl (212 kB)\n",
      "     ------------------------------------- 212.1/212.1 kB 12.6 MB/s eta 0:00:00\n",
      "Collecting cryptography>=3.3\n",
      "  Downloading cryptography-41.0.5-cp37-abi3-win_amd64.whl (2.7 MB)\n",
      "     ---------------------------------------- 2.7/2.7 MB 10.6 MB/s eta 0:00:00\n",
      "Collecting bcrypt>=3.2\n",
      "  Downloading bcrypt-4.0.1-cp36-abi3-win_amd64.whl (152 kB)\n",
      "     -------------------------------------- 152.9/152.9 kB 8.9 MB/s eta 0:00:00\n",
      "Requirement already satisfied: certifi>=2017.4.17 in c:\\users\\jerome\\.conda\\envs\\mlia23\\lib\\site-packages (from requests>=2.0->pwntools) (2023.5.7)\n",
      "Requirement already satisfied: charset-normalizer<4,>=2 in c:\\users\\jerome\\.conda\\envs\\mlia23\\lib\\site-packages (from requests>=2.0->pwntools) (3.1.0)\n",
      "Requirement already satisfied: urllib3<3,>=1.21.1 in c:\\users\\jerome\\.conda\\envs\\mlia23\\lib\\site-packages (from requests>=2.0->pwntools) (2.0.2)\n",
      "Requirement already satisfied: idna<4,>=2.5 in c:\\users\\jerome\\.conda\\envs\\mlia23\\lib\\site-packages (from requests>=2.0->pwntools) (3.4)\n",
      "Collecting plumbum\n",
      "  Downloading plumbum-1.8.2-py3-none-any.whl (127 kB)\n",
      "     ---------------------------------------- 127.0/127.0 kB ? eta 0:00:00\n",
      "Requirement already satisfied: cffi>=1.12 in c:\\users\\jerome\\.conda\\envs\\mlia23\\lib\\site-packages (from cryptography>=3.3->paramiko>=1.15.2->pwntools) (1.15.1)\n",
      "Requirement already satisfied: pywin32 in c:\\users\\jerome\\.conda\\envs\\mlia23\\lib\\site-packages (from plumbum->rpyc->pwntools) (305.1)\n",
      "Requirement already satisfied: pycparser in c:\\users\\jerome\\.conda\\envs\\mlia23\\lib\\site-packages (from cffi>=1.12->cryptography>=3.3->paramiko>=1.15.2->pwntools) (2.21)\n",
      "Building wheels for collected packages: intervaltree, colored-traceback\n",
      "  Building wheel for intervaltree (setup.py): started\n",
      "  Building wheel for intervaltree (setup.py): finished with status 'done'\n",
      "  Created wheel for intervaltree: filename=intervaltree-3.1.0-py2.py3-none-any.whl size=26128 sha256=4053eff0123b71f467eec4d4f062c2008747a5b354ef38d0f6e60a79eea385c3\n",
      "  Stored in directory: c:\\users\\jerome\\appdata\\local\\pip\\cache\\wheels\\ab\\fa\\1b\\75d9a713279796785711bd0bad8334aaace560c0bd28830c8c\n",
      "  Building wheel for colored-traceback (setup.py): started\n",
      "  Building wheel for colored-traceback (setup.py): finished with status 'done'\n",
      "  Created wheel for colored-traceback: filename=colored_traceback-0.3.0-py3-none-any.whl size=4628 sha256=fed02181edf333793bbe03dd3afe547efddc735657e90eaa82fdde02edf3353a\n",
      "  Stored in directory: c:\\users\\jerome\\appdata\\local\\pip\\cache\\wheels\\f2\\98\\90\\bdf1a80f1b20387becf9d4bb10afe65999ded6fdc75be8d9b8\n",
      "Successfully built intervaltree colored-traceback\n",
      "Installing collected packages: unicorn, pyserial, pyelftools, plumbum, mako, intervaltree, colored-traceback, capstone, bcrypt, rpyc, ropgadget, pynacl, cryptography, paramiko, pwntools\n",
      "Successfully installed bcrypt-4.0.1 capstone-5.0.1 colored-traceback-0.3.0 cryptography-41.0.5 intervaltree-3.1.0 mako-1.3.0 paramiko-3.3.1 plumbum-1.8.2 pwntools-4.11.0 pyelftools-0.30 pynacl-1.5.0 pyserial-3.5 ropgadget-7.4 rpyc-5.3.1 unicorn-2.0.1.post1\n"
     ]
    }
   ],
   "source": [
    "!pip3 install pwntools"
   ]
  },
  {
   "cell_type": "code",
   "execution_count": 15,
   "metadata": {},
   "outputs": [
    {
     "name": "stdout",
     "output_type": "stream",
     "text": [
      "Collecting pycryptodome\n",
      "  Downloading pycryptodome-3.19.0-cp35-abi3-win_amd64.whl (1.7 MB)\n",
      "     ---------------------------------------- 1.7/1.7 MB 9.2 MB/s eta 0:00:00\n",
      "Installing collected packages: pycryptodome\n",
      "Successfully installed pycryptodome-3.19.0\n"
     ]
    }
   ],
   "source": [
    "!pip3 install pycryptodome"
   ]
  },
  {
   "cell_type": "code",
   "execution_count": 1,
   "metadata": {},
   "outputs": [
    {
     "name": "stdout",
     "output_type": "stream",
     "text": [
      "Something went wrong\n"
     ]
    }
   ],
   "source": [
    "#!/usr/bin/env python3\n",
    "import os\n",
    "import sys\n",
    "from Crypto.Cipher import AES\n",
    "from Crypto.Util import Counter\n",
    "from binascii import hexlify\n",
    "\n",
    "def log(*err_messages):\n",
    "\t'''function for debugging purposes'''\n",
    "\tlogs = open('err.log','a')\n",
    "\tfor msg in err_messages:\n",
    "\t\tif type(msg) == bytes: msg = hexlify(msg).decode()\n",
    "\t\tlogs.write(msg)\n",
    "\tlogs.write('\\n')\n",
    "\tlogs.close()\n",
    "\n",
    "def enc(msg : bytes, key : bytes) -> bytes:\n",
    "\t'''Encrypt message with AES'''\n",
    "\taes = AES.new(key, AES.MODE_CTR, counter = Counter.new(128,initial_value = 0))\n",
    "\treturn aes.encrypt(msg)\n",
    "\n",
    "dec = enc #corresponding decryption function\n",
    "\n",
    "def encrypt(msg, key : bytes):\n",
    "\t'''Encrypt message with ONe-Time-Pad'''\n",
    "\tif type(msg) == str: msg = msg.encode()\n",
    "\treturn hexlify(bytes([msg[i] ^ key[i % 32] for i in range(len(msg))])).decode()\n",
    "\n",
    "if __name__ == '__main__':\n",
    "\ttry:\n",
    "\t\tflag = open('flag','r').read().strip()\n",
    "\t\tkey = os.urandom(32)\n",
    "\t\tcipher = enc(flag.encode(), key)\n",
    "\t\tprint(hexlify(cipher).decode())\n",
    "\t\tlog('cipher: ', cipher)\n",
    "\t\tlog('key: ', key)\n",
    "\t\tprint('I will encrypt a single message of length at most 30 for you.\\nMessage: ')\n",
    "\t\tsys.stdout.flush()\n",
    "\t\tmessage = sys.stdin.buffer.readline().strip()\n",
    "\t\tassert len(message) <= 30\n",
    "\t\tprint(encrypt(message, key))\n",
    "\texcept Exception as err:\n",
    "\t\tprint('Something went wrong')\n",
    "\t\tlog('ERROR: ', repr(err))\n"
   ]
  },
  {
   "cell_type": "code",
   "execution_count": 26,
   "metadata": {},
   "outputs": [
    {
     "name": "stdout",
     "output_type": "stream",
     "text": [
      "b'ENO{r3u5e_i5_0n1y_f0r_re4l_l1fe}'\n",
      "246 10\n"
     ]
    }
   ],
   "source": [
    "from binascii import unhexlify\n",
    "\n",
    "def decodeOTP(plaintext, cipher): # plaintext in string, cipher as hex\n",
    "    cipher = unhexlify(cipher)\n",
    "    plaintext = plaintext.encode()\n",
    "    # key = bytes([plaintext[i] ^ cipher[i] for i in range(len(plaintext))])\n",
    "    key = unhexlify(encrypt(plaintext, cipher))\n",
    "    return key\n",
    "\n",
    "string_crack = \"AAAAAAAAAAAAAAAAAAAAAAAAAAAAAA\"\n",
    "\n",
    "def decodeAES(cipher, key): # cipher as hex, key as bytes\n",
    "    # key is only 30 bytes long, so we need to brute force the last 2 bytes\n",
    "    for i in range(256):\n",
    "        for j in range(256):\n",
    "            try:\n",
    "                key = key + bytes([i]) + bytes([j])\n",
    "                aes = AES.new(key, AES.MODE_CTR, counter = Counter.new(128,initial_value = 0))\n",
    "                plaintext = aes.decrypt(unhexlify(cipher))\n",
    "                if b\"ENO\" in plaintext:\n",
    "                    print(plaintext)\n",
    "                    print(i, j)\n",
    "            except:\n",
    "                pass\n",
    "            key = key[:-2]\n",
    "\n",
    "decodeAES(\"f0a8fdd6183fb8818f497097dbf52aa57a4736ed5a043f73b1bd8ddb74a78bcd\", decodeOTP(string_crack, \"8aa96e037f2a3706287855213df9713ac307a92de2a1c31df99c1fc4f1a0\"))"
   ]
  }
 ],
 "metadata": {
  "kernelspec": {
   "display_name": "mlia23",
   "language": "python",
   "name": "python3"
  },
  "language_info": {
   "codemirror_mode": {
    "name": "ipython",
    "version": 3
   },
   "file_extension": ".py",
   "mimetype": "text/x-python",
   "name": "python",
   "nbconvert_exporter": "python",
   "pygments_lexer": "ipython3",
   "version": "3.9.16"
  }
 },
 "nbformat": 4,
 "nbformat_minor": 2
}
