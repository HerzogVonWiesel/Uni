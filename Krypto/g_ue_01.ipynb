{
 "cells": [
  {
   "cell_type": "code",
   "execution_count": null,
   "metadata": {},
   "outputs": [],
   "source": [
    "!pip install pwntools"
   ]
  },
  {
   "cell_type": "code",
   "execution_count": 18,
   "metadata": {},
   "outputs": [
    {
     "name": "stdout",
     "output_type": "stream",
     "text": [
      "[x] Opening connection to challenge.training.enoflag.de on port 10010\n",
      "[x] Opening connection to challenge.training.enoflag.de on port 10010: Trying 130.149.230.213\n",
      "[+] Opening connection to challenge.training.enoflag.de on port 10010: Done\n"
     ]
    }
   ],
   "source": [
    "import pwn\n",
    "\n",
    "host = \"challenge.training.enoflag.de\"\n",
    "port = 10010\n",
    "\n",
    "io = pwn.connect(host, port)"
   ]
  },
  {
   "cell_type": "code",
   "execution_count": 20,
   "metadata": {},
   "outputs": [
    {
     "name": "stdout",
     "output_type": "stream",
     "text": [
      "41\n"
     ]
    }
   ],
   "source": [
    "# find next prime after given number\n",
    "num = 37\n",
    "while True:\n",
    "    num += 1\n",
    "    if all(num % i != 0 for i in range(2, num)):\n",
    "        break\n",
    "print(num)"
   ]
  }
 ],
 "metadata": {
  "kernelspec": {
   "display_name": ".venv",
   "language": "python",
   "name": "python3"
  },
  "language_info": {
   "codemirror_mode": {
    "name": "ipython",
    "version": 3
   },
   "file_extension": ".py",
   "mimetype": "text/x-python",
   "name": "python",
   "nbconvert_exporter": "python",
   "pygments_lexer": "ipython3",
   "version": "3.11.5"
  }
 },
 "nbformat": 4,
 "nbformat_minor": 2
}
