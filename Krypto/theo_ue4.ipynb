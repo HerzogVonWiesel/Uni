{
 "cells": [
  {
   "cell_type": "code",
   "execution_count": 29,
   "metadata": {},
   "outputs": [
    {
     "name": "stdout",
     "output_type": "stream",
     "text": [
      "y_1 = 360; 3rd root = 7.113786608980125\n",
      "y_2 = 510; 3rd root = 7.989569740454012\n",
      "y_3 = 132; 3rd root = 5.091643369659488\n",
      "y_4 = 22; 3rd root = 2.802039330655387\n",
      "y_5 = 12; 3rd root = 2.2894284851066637\n",
      "y_6 = 34; 3rd root = 3.239611801277483\n",
      "y_7 = 276; 3rd root = 6.510830071526432\n",
      "y_8 = 422; 3rd root = 7.500740667593201\n",
      "y_9 = 308; 3rd root = 6.75331341669382\n",
      "y_10 = 32; 3rd root = 3.1748021039363987\n",
      "y_11 = 264; 3rd root = 6.415068659991652\n",
      "y_12 = 176; 3rd root = 5.604078661310774\n",
      "y_13 = 490; 3rd root = 7.883735163105242\n",
      "y_14 = 242; 3rd root = 6.231679684369752\n",
      "y_15 = 38; 3rd root = 3.361975406798963\n",
      "y_16 = 292; 3rd root = 6.6342874368674964\n",
      "y_17 = 412; 3rd root = 7.441018860736905\n",
      "y_18 = 258; 3rd root = 6.366096760416892\n",
      "y_19 = 14; 3rd root = 2.4101422641752297\n",
      "y_20 = 380; 3rd root = 7.24315644344174\n",
      "y_21 = 48; 3rd root = 3.634241185664279\n",
      "y_22 = 120; 3rd root = 4.93242414866094\n",
      "y_23 = 76; 3rd root = 4.235823584254893\n",
      "y_24 = 280; 3rd root = 6.542132620377179\n"
     ]
    }
   ],
   "source": [
    "a = 14\n",
    "y_0 = 1145\n",
    "m = 514\n",
    "\n",
    "k = 25\n",
    "\n",
    "y_i = y_0\n",
    "for i in range(1, k):\n",
    "    y_i = a * pow(y_i, 3) % m\n",
    "    print(f\"y_{i} = {y_i}; 3rd root = {pow(y_i, 1/3)}\")"
   ]
  },
  {
   "cell_type": "code",
   "execution_count": 23,
   "metadata": {},
   "outputs": [
    {
     "name": "stdout",
     "output_type": "stream",
     "text": [
      "4.0\n"
     ]
    }
   ],
   "source": [
    "y_k = pow(a, (pow(3, k)-1) / 2) * pow(y_i, pow(3, k)) % m\n",
    "print(y_k)"
   ]
  }
 ],
 "metadata": {
  "kernelspec": {
   "display_name": "mlia23",
   "language": "python",
   "name": "python3"
  },
  "language_info": {
   "codemirror_mode": {
    "name": "ipython",
    "version": 3
   },
   "file_extension": ".py",
   "mimetype": "text/x-python",
   "name": "python",
   "nbconvert_exporter": "python",
   "pygments_lexer": "ipython3",
   "version": "3.9.16"
  }
 },
 "nbformat": 4,
 "nbformat_minor": 2
}
