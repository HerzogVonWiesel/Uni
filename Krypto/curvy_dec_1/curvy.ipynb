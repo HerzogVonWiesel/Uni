{
 "cells": [
  {
   "cell_type": "code",
   "execution_count": 74,
   "metadata": {},
   "outputs": [],
   "source": [
    "#!/usr/bin/env python3\n",
    "import os\n",
    "import sys\n",
    "import string\n",
    "from Crypto.Util import number\n",
    "from Crypto.Util.number import bytes_to_long, long_to_bytes\n",
    "from Crypto.Cipher import AES\n",
    "from binascii import hexlify\n",
    "from binascii import unhexlify\n",
    "\n",
    "from ec import *\n",
    "from utils import *\n",
    "#from secret import flag1, flag2\n",
    "\n",
    "#P-256 parameters\n",
    "p = 0xffffffff00000001000000000000000000000000ffffffffffffffffffffffff\n",
    "a = -3\n",
    "b = 0x5ac635d8aa3a93e7b3ebbd55769886bc651d06b0cc53b0f63bce3c3e27d2604b\n",
    "n = 0xffffffff00000000ffffffffffffffffbce6faada7179e84f3b9cac2fc632551\n",
    "curve = EllipticCurve(p,a,b, order = n)\n",
    "G = ECPoint(curve, 0x6b17d1f2e12c4247f8bce6e563a440f277037d812deb33a0f4a13945d898c296, 0x4fe342e2fe1a7f9b8ee7eb4a7c0f9e162bce33576b315ececbb6406837bf51f5)\n",
    "\n",
    "d_a = bytes_to_long(os.urandom(32))\n",
    "P_a = G * d_a\n",
    "\n",
    "printable = [ord(char.encode()) for char in string.printable]\n",
    "\n",
    "def encrypt(msg : bytes, pubkey : ECPoint):\n",
    "\tx = bytes_to_long(msg)\n",
    "\ty = modular_sqrt(x**3 + a*x + b, p)\n",
    "\tm = ECPoint(curve, x, y)\n",
    "\td_b = number.getRandomRange(0,n)\n",
    "\treturn (G * d_b, m + (pubkey * d_b))\n",
    "\n",
    "def pencrypt(msg:ECPoint, pubkey:ECPoint):\n",
    "\td_b = number.getRandomRange(0,n)\n",
    "\treturn (G * d_b, msg + (pubkey * d_b))\n",
    "\n",
    "def decrypt(B : ECPoint, c : ECPoint, d_a : int):\n",
    "\tif B.inf or c.inf: return b''\n",
    "\treturn long_to_bytes((c - (B * d_a)).x)\n",
    "\n",
    "def loop():\n",
    "\tprint('I will decrypt anythin as long as it does not talk about flags.')\n",
    "\tbalance = 1024\n",
    "\twhile True:\n",
    "\t\tprint('B:', end = '')\n",
    "\t\tsys.stdout.flush()\n",
    "\t\tB_input = sys.stdin.buffer.readline().strip().decode()\n",
    "\t\tprint('c:', end = '')\n",
    "\t\tsys.stdout.flush()\n",
    "\t\tc_input = sys.stdin.buffer.readline().strip().decode()\n",
    "\t\tB = ECPoint(curve, *[int(_) for _ in B_input.split(',')])\n",
    "\t\tc = ECPoint(curve, *[int(_) for _ in c_input.split(',')])\n",
    "\t\tmsg = decrypt(B, c, d_a)\n",
    "\t\tif b'ENO' in msg:\n",
    "\t\t\tbalance = -1\n",
    "\t\telse:\n",
    "\t\t\tbalance -= 1 + len([c for c in msg if c in printable])\n",
    "\t\tif balance >= 0:\n",
    "\t\t\tprint(hexlify(msg))\n",
    "\t\t\tprint('balance left: %d' % balance)\n",
    "\t\telse:\n",
    "\t\t\tprint('You cannot afford any more decryptions.')\n",
    "\t\t\treturn\n",
    "\n",
    "\n",
    "import pwn\n",
    "\n",
    "\n",
    "def oldmain():\n",
    "\tprint('My public key is:')\n",
    "\tprint(P_a)\n",
    "\tprint('Good luck decrypting this cipher.')\n",
    "\tB,c = encrypt(flag1, P_a)\n",
    "\tprint(B)\n",
    "\tprint(c)\n",
    "\tkey = long_to_bytes((d_a >> (8*16)) ^ (d_a & 0xffffffffffffffffffffffffffffffff))\n",
    "\tenc = AES.new(key, AES.MODE_ECB)\n",
    "\tcipher = enc.encrypt(flag2)\n",
    "\tprint(hexlify(cipher).decode())\n",
    "\ttry:\n",
    "\t\tloop()\n",
    "\texcept Exception as err:\n",
    "\t\tprint(repr(err))\n"
   ]
  },
  {
   "cell_type": "code",
   "execution_count": 72,
   "metadata": {},
   "outputs": [
    {
     "name": "stdout",
     "output_type": "stream",
     "text": [
      "Point(63379153082268983087676419596766291431071183002471375467266701082474365703365, 24448766636727382172074101406249882571637047981542167354047190567519432832292)\n",
      "b'\\x86\\xe5\\xfcK!\\x05\\xb6\\x03\\xab\\xb2\\xd6G\\\\7\\xe0b\\x9c^\\xe6-\\xe5\\xdf\\x02X\\xbc\\x89\\x80\\xeb\\xb9<\\xd3k'\n",
      "Point(61016270953544992303396866746532803952910852473903003670035305865338809013099, 34436038883246661830715487230946913456111472007422276465041793368016589576844)\n",
      "Point(25930415811709767210045133132165008857678760536139645, 4859618777402601608103635029082233285154997695920661398678174923918695172684)\n",
      "b'ENO{flaggeffsdfsdlagg}'\n"
     ]
    }
   ],
   "source": [
    "test_flag = \"ENO{flaggeffsdfsdlagg}\"\n",
    "test_a = bytes_to_long(os.urandom(32))\n",
    "test_A = G * test_a\n",
    "B, c = encrypt(test_flag.encode(), test_A)\n",
    "nu_c = test_A + c\n",
    "print(nu_c)\n",
    "c_A = decrypt(B, nu_c, test_a)\n",
    "print(c_A)\n",
    "nu_m_y_2 = bytes_to_long(c_A) ** 3 + a * bytes_to_long(c_A) + b\n",
    "nu_m_y = modular_sqrt(nu_m_y_2, p) * (-1)\n",
    "nu_m = ECPoint(curve, bytes_to_long(c_A), nu_m_y)\n",
    "print(nu_m)\n",
    "nu_m = nu_m - test_A\n",
    "print(nu_m)\n",
    "msg = long_to_bytes(nu_m.x)\n",
    "print(msg)"
   ]
  },
  {
   "cell_type": "code",
   "execution_count": 47,
   "metadata": {},
   "outputs": [
    {
     "name": "stdout",
     "output_type": "stream",
     "text": [
      "Point(3804080823088326148287757759231307392983571478699522060709469301130149930270, 71404647177415798459113112627993106878276261622566827087301271821154369932938)\n",
      "Point(10146440476196763535451219975012995443820458697211245279270205938956709091870, 36990615607108298790684233114109658180963580281580207536841761206607428040707)\n"
     ]
    }
   ],
   "source": [
    "c = ECPoint(curve,55512627364125854178514693309545576278144178027702971401313263567778342375544, 21483996911178583058163235542084532451351848382256587736745920418246312029439)\n",
    "my_a = os.urandom(32)\n",
    "my_A = G * bytes_to_long(my_a)\n",
    "nu_B, nu_c = pencrypt(c, my_A)\n",
    "print(nu_B)\n",
    "print(nu_c)"
   ]
  },
  {
   "cell_type": "code",
   "execution_count": 63,
   "metadata": {},
   "outputs": [
    {
     "name": "stdout",
     "output_type": "stream",
     "text": [
      "Point(79994196063038598358011775792130676812937004640094933917227619794235459075554, 53687371447183488707026465001377872751680831554524114547842817568524888633418)\n"
     ]
    }
   ],
   "source": [
    "A = ECPoint(curve, 101130525322426479027081692914659643174769712523484822159445944093855575745858, 89232179367383681748429355540821259340059086141559809779443503544531289339399)\n",
    "nu_c = A + c\n",
    "print(nu_c)"
   ]
  },
  {
   "cell_type": "code",
   "execution_count": null,
   "metadata": {},
   "outputs": [],
   "source": []
  },
  {
   "cell_type": "code",
   "execution_count": 78,
   "metadata": {},
   "outputs": [
    {
     "name": "stdout",
     "output_type": "stream",
     "text": [
      "b'ENO{ElGam4l_1s_mult1pl1cativ3}'\n"
     ]
    },
    {
     "data": {
      "text/plain": [
       "b'K\\xf0\\x82\\x85\\x85i\\xca\\xbcH\\xab\\xe606\\xec.\\xddku7\\x82\\x80.jo\\xdb.\\x0f\\xe5x`\\xf4c'"
      ]
     },
     "execution_count": 78,
     "metadata": {},
     "output_type": "execute_result"
    }
   ],
   "source": [
    "nu_m_x = b'ab54c08d9c9aa13b48d07d0616a44df43750a9508c4fa321f8d55fc8e9066f6f'\n",
    "nu_m_x = unhexlify(nu_m_x)\n",
    "nu_m_y_2 = bytes_to_long(nu_m_x) ** 3 + a * bytes_to_long(nu_m_x) + b\n",
    "nu_m_y = modular_sqrt(nu_m_y_2, p) #* (-1)\n",
    "\n",
    "M = ECPoint(curve, bytes_to_long(nu_m_x), nu_m_y)\n",
    "M = M - A\n",
    "print(long_to_bytes(M.x))\n",
    "\n",
    "m = ECPoint(curve, bytes_to_long(nu_m_x), nu_m_y)\n",
    "decrypt(nu_B, m, bytes_to_long(my_a))"
   ]
  }
 ],
 "metadata": {
  "kernelspec": {
   "display_name": ".venv",
   "language": "python",
   "name": "python3"
  },
  "language_info": {
   "codemirror_mode": {
    "name": "ipython",
    "version": 3
   },
   "file_extension": ".py",
   "mimetype": "text/x-python",
   "name": "python",
   "nbconvert_exporter": "python",
   "pygments_lexer": "ipython3",
   "version": "3.11.5"
  }
 },
 "nbformat": 4,
 "nbformat_minor": 2
}
