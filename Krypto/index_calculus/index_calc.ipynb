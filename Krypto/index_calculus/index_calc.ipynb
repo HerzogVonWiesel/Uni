{
 "cells": [
  {
   "cell_type": "code",
   "execution_count": null,
   "metadata": {},
   "outputs": [],
   "source": [
    "# %pip install pycryptodome"
   ]
  },
  {
   "cell_type": "code",
   "execution_count": 1,
   "metadata": {},
   "outputs": [],
   "source": [
    "import sympy\n",
    "import random"
   ]
  },
  {
   "cell_type": "code",
   "execution_count": 2,
   "metadata": {},
   "outputs": [],
   "source": [
    "def SieveOfEratosthenes(num):\n",
    "    prime = [True for i in range(num+1)]\n",
    "# boolean array\n",
    "    p = 2\n",
    "    while (p * p <= num):\n",
    " \n",
    "        # If prime[p] is not\n",
    "        # changed, then it is a prime\n",
    "        if (prime[p] == True):\n",
    " \n",
    "            # Updating all multiples of p\n",
    "            for i in range(p * p, num+1, p):\n",
    "                prime[i] = False\n",
    "        p += 1\n",
    " \n",
    "    # Print all prime numbers\n",
    "    # for p in range(2, num+1):\n",
    "    #     if prime[p]:\n",
    "    #         print(p)\n",
    "    # return primes as list\n",
    "    return [p for p in range(2, num+1) if prime[p]]"
   ]
  },
  {
   "cell_type": "code",
   "execution_count": null,
   "metadata": {},
   "outputs": [],
   "source": [
    "print(2**4)"
   ]
  },
  {
   "cell_type": "code",
   "execution_count": 101,
   "metadata": {},
   "outputs": [],
   "source": [
    "p = 32987\n",
    "g = 11907\n",
    "y = 714"
   ]
  },
  {
   "cell_type": "code",
   "execution_count": 3,
   "metadata": {},
   "outputs": [],
   "source": [
    "p = 65537\n",
    "g = 3\n",
    "y = 13169"
   ]
  },
  {
   "cell_type": "code",
   "execution_count": 125,
   "metadata": {},
   "outputs": [
    {
     "name": "stdout",
     "output_type": "stream",
     "text": [
      "Got primes!\n",
      "[3, 5, 7, 11, 13, 17, 19]\n",
      "-16\n",
      "-2\n",
      "0\n",
      "0\n",
      "-304\n",
      "17\n",
      "4455\n",
      "4455\n"
     ]
    }
   ],
   "source": [
    "for k in range(20, 200):\n",
    "    _break = False\n",
    "    primes = SieveOfEratosthenes(k)\n",
    "    print(\"Got primes!\")\n",
    "    primes = primes[1:]\n",
    "    print(primes)\n",
    "    for _x in range(100):\n",
    "        b = []\n",
    "        A = []\n",
    "        for _ in range(1<<10):\n",
    "            r = random.randint(1, p-1)\n",
    "            curr = y * pow(g, r, p) % p # p, aka o(g)\n",
    "            e = [0] * len(primes)\n",
    "            for i, q in enumerate(primes):\n",
    "                while curr % q == 0:\n",
    "                    curr //= q\n",
    "                    e[i] += 1\n",
    "            if curr == 1:\n",
    "                b.append(r)\n",
    "                A.append([-1]+e)\n",
    "                # print(r, [-1]+e)\n",
    "        A = sympy.Matrix(A[:len(primes)+1])\n",
    "        #print(A.shape)\n",
    "        if A.shape[0] != A.shape[1] or A.shape[0] == 0:\n",
    "            continue\n",
    "        b = sympy.Matrix(b[:len(primes)+1])\n",
    "        print(A.det())\n",
    "        if A.det() % 2 == 1:\n",
    "            res = (A.inv_mod(p-1) @ b)[0] % (p-1)\n",
    "            print(res)\n",
    "            _break = True\n",
    "            break\n",
    "    if _break:\n",
    "        break\n",
    "print(res)"
   ]
  }
 ],
 "metadata": {
  "kernelspec": {
   "display_name": ".venv",
   "language": "python",
   "name": "python3"
  },
  "language_info": {
   "codemirror_mode": {
    "name": "ipython",
    "version": 3
   },
   "file_extension": ".py",
   "mimetype": "text/x-python",
   "name": "python",
   "nbconvert_exporter": "python",
   "pygments_lexer": "ipython3",
   "version": "3.11.5"
  }
 },
 "nbformat": 4,
 "nbformat_minor": 2
}
