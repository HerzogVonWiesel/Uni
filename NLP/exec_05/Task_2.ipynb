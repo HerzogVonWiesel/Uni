{
 "cells": [
  {
   "cell_type": "code",
   "execution_count": 77,
   "metadata": {},
   "outputs": [],
   "source": [
    "from datasets import load_dataset\n",
    "import datasets\n",
    "from typing import Dict, Any\n",
    "\n",
    "SEED = 42"
   ]
  },
  {
   "cell_type": "code",
   "execution_count": null,
   "metadata": {},
   "outputs": [],
   "source": [
    "dataset = load_dataset(\"allenai/qasper\")"
   ]
  },
  {
   "cell_type": "code",
   "execution_count": 5,
   "metadata": {},
   "outputs": [
    {
     "data": {
      "text/plain": [
       "{'id': '1909.00694',\n",
       " 'title': 'Minimally Supervised Learning of Affective Events Using Discourse Relations',\n",
       " 'abstract': 'Recognizing affective events that trigger positive or negative sentiment has a wide range of natural language processing applications but remains a challenging problem mainly because the polarity of an event is not necessarily predictable from its constituent words. In this paper, we propose to propagate affective polarity using discourse relations. Our method is simple and only requires a very small seed lexicon and a large raw corpus. Our experiments using Japanese data show that our method learns affective events effectively without manually labeled data. It also improves supervised learning results when labeled data are small.',\n",
       " 'full_text': {'section_name': ['Introduction',\n",
       "   'Related Work',\n",
       "   'Proposed Method',\n",
       "   'Proposed Method ::: Polarity Function',\n",
       "   'Proposed Method ::: Discourse Relation-Based Event Pairs',\n",
       "   'Proposed Method ::: Discourse Relation-Based Event Pairs ::: AL (Automatically Labeled Pairs)',\n",
       "   'Proposed Method ::: Discourse Relation-Based Event Pairs ::: CA (Cause Pairs)',\n",
       "   'Proposed Method ::: Discourse Relation-Based Event Pairs ::: CO (Concession Pairs)',\n",
       "   'Proposed Method ::: Loss Functions',\n",
       "   'Experiments',\n",
       "   'Experiments ::: Dataset',\n",
       "   'Experiments ::: Dataset ::: AL, CA, and CO',\n",
       "   'Experiments ::: Dataset ::: ACP (ACP Corpus)',\n",
       "   'Experiments ::: Model Configurations',\n",
       "   'Experiments ::: Results and Discussion',\n",
       "   'Conclusion',\n",
       "   'Acknowledgments',\n",
       "   'Appendices ::: Seed Lexicon ::: Positive Words',\n",
       "   'Appendices ::: Seed Lexicon ::: Negative Words',\n",
       "   'Appendices ::: Settings of Encoder ::: BiGRU',\n",
       "   'Appendices ::: Settings of Encoder ::: BERT'],\n",
       "  'paragraphs': [[\"Affective events BIBREF0 are events that typically affect people in positive or negative ways. For example, getting money and playing sports are usually positive to the experiencers; catching cold and losing one's wallet are negative. Understanding affective events is important to various natural language processing (NLP) applications such as dialogue systems BIBREF1, question-answering systems BIBREF2, and humor recognition BIBREF3. In this paper, we work on recognizing the polarity of an affective event that is represented by a score ranging from $-1$ (negative) to 1 (positive).\",\n",
       "    'Learning affective events is challenging because, as the examples above suggest, the polarity of an event is not necessarily predictable from its constituent words. Combined with the unbounded combinatorial nature of language, the non-compositionality of affective polarity entails the need for large amounts of world knowledge, which can hardly be learned from small annotated data.',\n",
       "    \"In this paper, we propose a simple and effective method for learning affective events that only requires a very small seed lexicon and a large raw corpus. As illustrated in Figure FIGREF1, our key idea is that we can exploit discourse relations BIBREF4 to efficiently propagate polarity from seed predicates that directly report one's emotions (e.g., “to be glad” is positive). Suppose that events $x_1$ are $x_2$ are in the discourse relation of Cause (i.e., $x_1$ causes $x_2$). If the seed lexicon suggests $x_2$ is positive, $x_1$ is also likely to be positive because it triggers the positive emotion. The fact that $x_2$ is known to be negative indicates the negative polarity of $x_1$. Similarly, if $x_1$ and $x_2$ are in the discourse relation of Concession (i.e., $x_2$ in spite of $x_1$), the reverse of $x_2$'s polarity can be propagated to $x_1$. Even if $x_2$'s polarity is not known in advance, we can exploit the tendency of $x_1$ and $x_2$ to be of the same polarity (for Cause) or of the reverse polarity (for Concession) although the heuristic is not exempt from counterexamples. We transform this idea into objective functions and train neural network models that predict the polarity of a given event.\",\n",
       "    'We trained the models using a Japanese web corpus. Given the minimum amount of supervision, they performed well. In addition, the combination of annotated and unannotated data yielded a gain over a purely supervised baseline when labeled data were small.'],\n",
       "   ['Learning affective events is closely related to sentiment analysis. Whereas sentiment analysis usually focuses on the polarity of what are described (e.g., movies), we work on how people are typically affected by events. In sentiment analysis, much attention has been paid to compositionality. Word-level polarity BIBREF5, BIBREF6, BIBREF7 and the roles of negation and intensification BIBREF8, BIBREF6, BIBREF9 are among the most important topics. In contrast, we are more interested in recognizing the sentiment polarity of an event that pertains to commonsense knowledge (e.g., getting money and catching cold).',\n",
       "    'Label propagation from seed instances is a common approach to inducing sentiment polarities. While BIBREF5 and BIBREF10 worked on word- and phrase-level polarities, BIBREF0 dealt with event-level polarities. BIBREF5 and BIBREF10 linked instances using co-occurrence information and/or phrase-level coordinations (e.g., “$A$ and $B$” and “$A$ but $B$”). We shift our scope to event pairs that are more complex than phrase pairs, and consequently exploit discourse connectives as event-level counterparts of phrase-level conjunctions.',\n",
       "    'BIBREF0 constructed a network of events using word embedding-derived similarities. Compared with this method, our discourse relation-based linking of events is much simpler and more intuitive.',\n",
       "    'Some previous studies made use of document structure to understand the sentiment. BIBREF11 proposed a sentiment-specific pre-training strategy using unlabeled dialog data (tweet-reply pairs). BIBREF12 proposed a method of building a polarity-tagged corpus (ACP Corpus). They automatically gathered sentences that had positive or negative opinions utilizing HTML layout structures in addition to linguistic patterns. Our method depends only on raw texts and thus has wider applicability.',\n",
       "    ''],\n",
       "   [''],\n",
       "   ['',\n",
       "    'Our goal is to learn the polarity function $p(x)$, which predicts the sentiment polarity score of an event $x$. We approximate $p(x)$ by a neural network with the following form:',\n",
       "    '${\\\\rm Encoder}$ outputs a vector representation of the event $x$. ${\\\\rm Linear}$ is a fully-connected layer and transforms the representation into a scalar. ${\\\\rm tanh}$ is the hyperbolic tangent and transforms the scalar into a score ranging from $-1$ to 1. In Section SECREF21, we consider two specific implementations of ${\\\\rm Encoder}$.',\n",
       "    ''],\n",
       "   ['Our method requires a very small seed lexicon and a large raw corpus. We assume that we can automatically extract discourse-tagged event pairs, $(x_{i1}, x_{i2})$ ($i=1, \\\\cdots $) from the raw corpus. We refer to $x_{i1}$ and $x_{i2}$ as former and latter events, respectively. As shown in Figure FIGREF1, we limit our scope to two discourse relations: Cause and Concession.',\n",
       "    'The seed lexicon consists of positive and negative predicates. If the predicate of an extracted event is in the seed lexicon and does not involve complex phenomena like negation, we assign the corresponding polarity score ($+1$ for positive events and $-1$ for negative events) to the event. We expect the model to automatically learn complex phenomena through label propagation. Based on the availability of scores and the types of discourse relations, we classify the extracted event pairs into the following three types.',\n",
       "    ''],\n",
       "   [\"The seed lexicon matches (1) the latter event but (2) not the former event, and (3) their discourse relation type is Cause or Concession. If the discourse relation type is Cause, the former event is given the same score as the latter. Likewise, if the discourse relation type is Concession, the former event is given the opposite of the latter's score. They are used as reference scores during training.\",\n",
       "    ''],\n",
       "   ['The seed lexicon matches neither the former nor the latter event, and their discourse relation type is Cause. We assume the two events have the same polarities.',\n",
       "    ''],\n",
       "   ['The seed lexicon matches neither the former nor the latter event, and their discourse relation type is Concession. We assume the two events have the reversed polarities.',\n",
       "    ''],\n",
       "   ['Using AL, CA, and CO data, we optimize the parameters of the polarity function $p(x)$. We define a loss function for each of the three types of event pairs and sum up the multiple loss functions.',\n",
       "    'We use mean squared error to construct loss functions. For the AL data, the loss function is defined as:',\n",
       "    'where $x_{i1}$ and $x_{i2}$ are the $i$-th pair of the AL data. $r_{i1}$ and $r_{i2}$ are the automatically-assigned scores of $x_{i1}$ and $x_{i2}$, respectively. $N_{\\\\rm AL}$ is the total number of AL pairs, and $\\\\lambda _{\\\\rm AL}$ is a hyperparameter.',\n",
       "    'For the CA data, the loss function is defined as:',\n",
       "    '$y_{i1}$ and $y_{i2}$ are the $i$-th pair of the CA pairs. $N_{\\\\rm CA}$ is the total number of CA pairs. $\\\\lambda _{\\\\rm CA}$ and $\\\\mu $ are hyperparameters. The first term makes the scores of the two events closer while the second term prevents the scores from shrinking to zero.',\n",
       "    'The loss function for the CO data is defined analogously:',\n",
       "    'The difference is that the first term makes the scores of the two events distant from each other.',\n",
       "    ''],\n",
       "   [''],\n",
       "   [''],\n",
       "   ['As a raw corpus, we used a Japanese web corpus that was compiled through the procedures proposed by BIBREF13. To extract event pairs tagged with discourse relations, we used the Japanese dependency parser KNP and in-house postprocessing scripts BIBREF14. KNP used hand-written rules to segment each sentence into what we conventionally called clauses (mostly consecutive text chunks), each of which contained one main predicate. KNP also identified the discourse relations of event pairs if explicit discourse connectives BIBREF4 such as “ので” (because) and “のに” (in spite of) were present. We treated Cause/Reason (原因・理由) and Condition (条件) in the original tagset BIBREF15 as Cause and Concession (逆接) as Concession, respectively. Here is an example of event pair extraction.',\n",
       "    '. 重大な失敗を犯したので、仕事をクビになった。',\n",
       "    'Because [I] made a serious mistake, [I] got fired.',\n",
       "    'From this sentence, we extracted the event pair of “重大な失敗を犯す” ([I] make a serious mistake) and “仕事をクビになる” ([I] get fired), and tagged it with Cause.',\n",
       "    'We constructed our seed lexicon consisting of 15 positive words and 15 negative words, as shown in Section SECREF27. From the corpus of about 100 million sentences, we obtained 1.4 millions event pairs for AL, 41 millions for CA, and 6 millions for CO. We randomly selected subsets of AL event pairs such that positive and negative latter events were equal in size. We also sampled event pairs for each of CA and CO such that it was five times larger than AL. The results are shown in Table TABREF16.'],\n",
       "   ['We used the latest version of the ACP Corpus BIBREF12 for evaluation. It was used for (semi-)supervised training as well. Extracted from Japanese websites using HTML layouts and linguistic patterns, the dataset covered various genres. For example, the following two sentences were labeled positive and negative, respectively:',\n",
       "    '. 作業が楽だ。',\n",
       "    'The work is easy.',\n",
       "    '. 駐車場がない。',\n",
       "    'There is no parking lot.',\n",
       "    'Although the ACP corpus was originally constructed in the context of sentiment analysis, we found that it could roughly be regarded as a collection of affective events. We parsed each sentence and extracted the last clause in it. The train/dev/test split of the data is shown in Table TABREF19.',\n",
       "    'The objective function for supervised training is:',\n",
       "    '',\n",
       "    'where $v_i$ is the $i$-th event, $R_i$ is the reference score of $v_i$, and $N_{\\\\rm ACP}$ is the number of the events of the ACP Corpus.',\n",
       "    'To optimize the hyperparameters, we used the dev set of the ACP Corpus. For the evaluation, we used the test set of the ACP Corpus. The model output was classified as positive if $p(x) > 0$ and negative if $p(x) \\\\le 0$.',\n",
       "    ''],\n",
       "   ['As for ${\\\\rm Encoder}$, we compared two types of neural networks: BiGRU and BERT. GRU BIBREF16 is a recurrent neural network sequence encoder. BiGRU reads an input sequence forward and backward and the output is the concatenation of the final forward and backward hidden states.',\n",
       "    'BERT BIBREF17 is a pre-trained multi-layer bidirectional Transformer BIBREF18 encoder. Its output is the final hidden state corresponding to the special classification tag ([CLS]). For the details of ${\\\\rm Encoder}$, see Sections SECREF30.',\n",
       "    'We trained the model with the following four combinations of the datasets: AL, AL+CA+CO (two proposed models), ACP (supervised), and ACP+AL+CA+CO (semi-supervised). The corresponding objective functions were: $\\\\mathcal {L}_{\\\\rm AL}$, $\\\\mathcal {L}_{\\\\rm AL} + \\\\mathcal {L}_{\\\\rm CA} + \\\\mathcal {L}_{\\\\rm CO}$, $\\\\mathcal {L}_{\\\\rm ACP}$, and $\\\\mathcal {L}_{\\\\rm ACP} + \\\\mathcal {L}_{\\\\rm AL} + \\\\mathcal {L}_{\\\\rm CA} + \\\\mathcal {L}_{\\\\rm CO}$.',\n",
       "    ''],\n",
       "   ['',\n",
       "    \"Table TABREF23 shows accuracy. As the Random baseline suggests, positive and negative labels were distributed evenly. The Random+Seed baseline made use of the seed lexicon and output the corresponding label (or the reverse of it for negation) if the event's predicate is in the seed lexicon. We can see that the seed lexicon itself had practically no impact on prediction.\",\n",
       "    'The models in the top block performed considerably better than the random baselines. The performance gaps with their (semi-)supervised counterparts, shown in the middle block, were less than 7%. This demonstrates the effectiveness of discourse relation-based label propagation.',\n",
       "    'Comparing the model variants, we obtained the highest score with the BiGRU encoder trained with the AL+CA+CO dataset. BERT was competitive but its performance went down if CA and CO were used in addition to AL. We conjecture that BERT was more sensitive to noises found more frequently in CA and CO.',\n",
       "    'Contrary to our expectations, supervised models (ACP) outperformed semi-supervised models (ACP+AL+CA+CO). This suggests that the training set of 0.6 million events is sufficiently large for training the models. For comparison, we trained the models with a subset (6,000 events) of the ACP dataset. As the results shown in Table TABREF24 demonstrate, our method is effective when labeled data are small.',\n",
       "    'The result of hyperparameter optimization for the BiGRU encoder was as follows:',\n",
       "    'As the CA and CO pairs were equal in size (Table TABREF16), $\\\\lambda _{\\\\rm CA}$ and $\\\\lambda _{\\\\rm CO}$ were comparable values. $\\\\lambda _{\\\\rm CA}$ was about one-third of $\\\\lambda _{\\\\rm CO}$, and this indicated that the CA pairs were noisier than the CO pairs. A major type of CA pairs that violates our assumption was in the form of “$\\\\textit {problem}_{\\\\text{negative}}$ causes $\\\\textit {solution}_{\\\\text{positive}}$”:',\n",
       "    '. (悪いところがある, よくなるように努力する)',\n",
       "    '(there is a bad point, [I] try to improve [it])',\n",
       "    'The polarities of the two events were reversed in spite of the Cause relation, and this lowered the value of $\\\\lambda _{\\\\rm CA}$.',\n",
       "    'Some examples of model outputs are shown in Table TABREF26. The first two examples suggest that our model successfully learned negation without explicit supervision. Similarly, the next two examples differ only in voice but the model correctly recognized that they had opposite polarities. The last two examples share the predicate “落とす\" (drop) and only the objects are different. The second event “肩を落とす\" (lit. drop one\\'s shoulders) is an idiom that expresses a disappointed feeling. The examples demonstrate that our model correctly learned non-compositional expressions.',\n",
       "    ''],\n",
       "   ['In this paper, we proposed to use discourse relations to effectively propagate polarities of affective events from seeds. Experiments show that, even with a minimal amount of supervision, the proposed method performed well.',\n",
       "    'Although event pairs linked by discourse analysis are shown to be useful, they nevertheless contain noises. Adding linguistically-motivated filtering rules would help improve the performance.'],\n",
       "   ['We thank Nobuhiro Kaji for providing the ACP Corpus and Hirokazu Kiyomaru and Yudai Kishimoto for their help in extracting event pairs. This work was partially supported by Yahoo! Japan Corporation.'],\n",
       "   ['喜ぶ (rejoice), 嬉しい (be glad), 楽しい (be pleasant), 幸せ (be happy), 感動 (be impressed), 興奮 (be excited), 懐かしい (feel nostalgic), 好き (like), 尊敬 (respect), 安心 (be relieved), 感心 (admire), 落ち着く (be calm), 満足 (be satisfied), 癒される (be healed), and スッキリ (be refreshed).'],\n",
       "   ['怒る (get angry), 悲しい (be sad), 寂しい (be lonely), 怖い (be scared), 不安 (feel anxious), 恥ずかしい (be embarrassed), 嫌 (hate), 落ち込む (feel down), 退屈 (be bored), 絶望 (feel hopeless), 辛い (have a hard time), 困る (have trouble), 憂鬱 (be depressed), 心配 (be worried), and 情けない (be sorry).'],\n",
       "   ['The dimension of the embedding layer was 256. The embedding layer was initialized with the word embeddings pretrained using the Web corpus. The input sentences were segmented into words by the morphological analyzer Juman++. The vocabulary size was 100,000. The number of hidden layers was 2. The dimension of hidden units was 256. The optimizer was Momentum SGD BIBREF21. The mini-batch size was 1024. We ran 100 epochs and selected the snapshot that achieved the highest score for the dev set.'],\n",
       "   ['We used a Japanese BERT model pretrained with Japanese Wikipedia. The input sentences were segmented into words by Juman++, and words were broken into subwords by applying BPE BIBREF20. The vocabulary size was 32,000. The maximum length of an input sequence was 128. The number of hidden layers was 12. The dimension of hidden units was 768. The number of self-attention heads was 12. The optimizer was Adam BIBREF19. The mini-batch size was 32. We ran 1 epoch.']]},\n",
       " 'qas': {'question': ['What is the seed lexicon?',\n",
       "   'What are the results?',\n",
       "   'How are relations used to propagate polarity?',\n",
       "   'How big is the Japanese data?',\n",
       "   'What are labels available in dataset for supervision?',\n",
       "   'How big are improvements of supervszed learning results trained on smalled labeled data enhanced with proposed approach copared to basic approach?',\n",
       "   'How does their model learn using mostly raw data?',\n",
       "   'How big is seed lexicon used for training?',\n",
       "   'How large is raw corpus used for training?'],\n",
       "  'question_id': ['753990d0b621d390ed58f20c4d9e4f065f0dc672',\n",
       "   '9d578ddccc27dd849244d632dd0f6bf27348ad81',\n",
       "   '02e4bf719b1a504e385c35c6186742e720bcb281',\n",
       "   '44c4bd6decc86f1091b5fc0728873d9324cdde4e',\n",
       "   '86abeff85f3db79cf87a8c993e5e5aa61226dc98',\n",
       "   'c029deb7f99756d2669abad0a349d917428e9c12',\n",
       "   '39f8db10d949c6b477fa4b51e7c184016505884f',\n",
       "   'd0bc782961567dc1dd7e074b621a6d6be44bb5b4',\n",
       "   'a592498ba2fac994cd6fad7372836f0adb37e22a'],\n",
       "  'nlp_background': ['two',\n",
       "   'two',\n",
       "   'two',\n",
       "   'two',\n",
       "   'zero',\n",
       "   'zero',\n",
       "   'zero',\n",
       "   'zero',\n",
       "   'zero'],\n",
       "  'topic_background': ['unfamiliar',\n",
       "   'unfamiliar',\n",
       "   'unfamiliar',\n",
       "   'unfamiliar',\n",
       "   'unfamiliar',\n",
       "   'unfamiliar',\n",
       "   'unfamiliar',\n",
       "   'unfamiliar',\n",
       "   'unfamiliar'],\n",
       "  'paper_read': ['no', 'no', 'no', 'no', 'no', 'no', 'no', 'no', 'no'],\n",
       "  'search_query': ['', '', '', '', '', '', '', '', ''],\n",
       "  'question_writer': ['c1fbdd7a261021041f75fbe00a55b4c386ebbbb4',\n",
       "   'c1fbdd7a261021041f75fbe00a55b4c386ebbbb4',\n",
       "   'c1fbdd7a261021041f75fbe00a55b4c386ebbbb4',\n",
       "   'c1fbdd7a261021041f75fbe00a55b4c386ebbbb4',\n",
       "   '258ee4069f740c400c0049a2580945a1cc7f044c',\n",
       "   '258ee4069f740c400c0049a2580945a1cc7f044c',\n",
       "   '258ee4069f740c400c0049a2580945a1cc7f044c',\n",
       "   '258ee4069f740c400c0049a2580945a1cc7f044c',\n",
       "   '258ee4069f740c400c0049a2580945a1cc7f044c'],\n",
       "  'answers': [{'answer': [{'unanswerable': False,\n",
       "      'extractive_spans': [],\n",
       "      'yes_no': None,\n",
       "      'free_form_answer': 'a vocabulary of positive and negative predicates that helps determine the polarity score of an event',\n",
       "      'evidence': ['The seed lexicon consists of positive and negative predicates. If the predicate of an extracted event is in the seed lexicon and does not involve complex phenomena like negation, we assign the corresponding polarity score ($+1$ for positive events and $-1$ for negative events) to the event. We expect the model to automatically learn complex phenomena through label propagation. Based on the availability of scores and the types of discourse relations, we classify the extracted event pairs into the following three types.'],\n",
       "      'highlighted_evidence': ['The seed lexicon consists of positive and negative predicates. If the predicate of an extracted event is in the seed lexicon and does not involve complex phenomena like negation, we assign the corresponding polarity score ($+1$ for positive events and $-1$ for negative events) to the event.',\n",
       "       'It is a ']},\n",
       "     {'unanswerable': False,\n",
       "      'extractive_spans': ['seed lexicon consists of positive and negative predicates'],\n",
       "      'yes_no': None,\n",
       "      'free_form_answer': '',\n",
       "      'evidence': ['The seed lexicon consists of positive and negative predicates. If the predicate of an extracted event is in the seed lexicon and does not involve complex phenomena like negation, we assign the corresponding polarity score ($+1$ for positive events and $-1$ for negative events) to the event. We expect the model to automatically learn complex phenomena through label propagation. Based on the availability of scores and the types of discourse relations, we classify the extracted event pairs into the following three types.'],\n",
       "      'highlighted_evidence': ['The seed lexicon consists of positive and negative predicates. If the predicate of an extracted event is in the seed lexicon and does not involve complex phenomena like negation, we assign the corresponding polarity score ($+1$ for positive events and $-1$ for negative events) to the event.']}],\n",
       "    'annotation_id': ['31e85022a847f37c15fd0415f3c450c74c8e4755',\n",
       "     '95da0a6e1b08db74a405c6a71067c9b272a50ff5'],\n",
       "    'worker_id': ['c1fbdd7a261021041f75fbe00a55b4c386ebbbb4',\n",
       "     '2cfd959e433f290bb50b55722370f0d22fe090b7']},\n",
       "   {'answer': [{'unanswerable': False,\n",
       "      'extractive_spans': [],\n",
       "      'yes_no': None,\n",
       "      'free_form_answer': 'Using all data to train: AL -- BiGRU achieved 0.843 accuracy, AL -- BERT achieved 0.863 accuracy, AL+CA+CO -- BiGRU achieved 0.866 accuracy, AL+CA+CO -- BERT achieved 0.835, accuracy, ACP -- BiGRU achieved 0.919 accuracy, ACP -- BERT achived 0.933, accuracy, ACP+AL+CA+CO -- BiGRU achieved 0.917 accuracy, ACP+AL+CA+CO -- BERT achieved 0.913 accuracy. \\nUsing a subset to train: BERT achieved 0.876 accuracy using ACP (6K), BERT achieved 0.886 accuracy using ACP (6K) + AL, BiGRU achieved 0.830 accuracy using ACP (6K), BiGRU achieved 0.879 accuracy using ACP (6K) + AL + CA + CO.',\n",
       "      'evidence': ['FLOAT SELECTED: Table 3: Performance of various models on the ACP test set.',\n",
       "       'FLOAT SELECTED: Table 4: Results for small labeled training data. Given the performance with the full dataset, we show BERT trained only with the AL data.',\n",
       "       'As for ${\\\\rm Encoder}$, we compared two types of neural networks: BiGRU and BERT. GRU BIBREF16 is a recurrent neural network sequence encoder. BiGRU reads an input sequence forward and backward and the output is the concatenation of the final forward and backward hidden states.',\n",
       "       'We trained the model with the following four combinations of the datasets: AL, AL+CA+CO (two proposed models), ACP (supervised), and ACP+AL+CA+CO (semi-supervised). The corresponding objective functions were: $\\\\mathcal {L}_{\\\\rm AL}$, $\\\\mathcal {L}_{\\\\rm AL} + \\\\mathcal {L}_{\\\\rm CA} + \\\\mathcal {L}_{\\\\rm CO}$, $\\\\mathcal {L}_{\\\\rm ACP}$, and $\\\\mathcal {L}_{\\\\rm ACP} + \\\\mathcal {L}_{\\\\rm AL} + \\\\mathcal {L}_{\\\\rm CA} + \\\\mathcal {L}_{\\\\rm CO}$.'],\n",
       "      'highlighted_evidence': ['FLOAT SELECTED: Table 3: Performance of various models on the ACP test set.',\n",
       "       'FLOAT SELECTED: Table 4: Results for small labeled training data. Given the performance with the full dataset, we show BERT trained only with the AL data.',\n",
       "       'As for ${\\\\rm Encoder}$, we compared two types of neural networks: BiGRU and BERT. ',\n",
       "       'We trained the model with the following four combinations of the datasets: AL, AL+CA+CO (two proposed models), ACP (supervised), and ACP+AL+CA+CO (semi-supervised). The corresponding objective functions were: $\\\\mathcal {L}_{\\\\rm AL}$, $\\\\mathcal {L}_{\\\\rm AL} + \\\\mathcal {L}_{\\\\rm CA} + \\\\mathcal {L}_{\\\\rm CO}$, $\\\\mathcal {L}_{\\\\rm ACP}$, and $\\\\mathcal {L}_{\\\\rm ACP} + \\\\mathcal {L}_{\\\\rm AL} + \\\\mathcal {L}_{\\\\rm CA} + \\\\mathcal {L}_{\\\\rm CO}$.']}],\n",
       "    'annotation_id': ['1e5e867244ea656c4b7632628086209cf9bae5fa'],\n",
       "    'worker_id': ['2cfd959e433f290bb50b55722370f0d22fe090b7']},\n",
       "   {'answer': [{'unanswerable': False,\n",
       "      'extractive_spans': [],\n",
       "      'yes_no': None,\n",
       "      'free_form_answer': 'based on the relation between events, the suggested polarity of one event can determine the possible polarity of the other event ',\n",
       "      'evidence': [\"In this paper, we propose a simple and effective method for learning affective events that only requires a very small seed lexicon and a large raw corpus. As illustrated in Figure FIGREF1, our key idea is that we can exploit discourse relations BIBREF4 to efficiently propagate polarity from seed predicates that directly report one's emotions (e.g., “to be glad” is positive). Suppose that events $x_1$ are $x_2$ are in the discourse relation of Cause (i.e., $x_1$ causes $x_2$). If the seed lexicon suggests $x_2$ is positive, $x_1$ is also likely to be positive because it triggers the positive emotion. The fact that $x_2$ is known to be negative indicates the negative polarity of $x_1$. Similarly, if $x_1$ and $x_2$ are in the discourse relation of Concession (i.e., $x_2$ in spite of $x_1$), the reverse of $x_2$'s polarity can be propagated to $x_1$. Even if $x_2$'s polarity is not known in advance, we can exploit the tendency of $x_1$ and $x_2$ to be of the same polarity (for Cause) or of the reverse polarity (for Concession) although the heuristic is not exempt from counterexamples. We transform this idea into objective functions and train neural network models that predict the polarity of a given event.\"],\n",
       "      'highlighted_evidence': [\"As illustrated in Figure FIGREF1, our key idea is that we can exploit discourse relations BIBREF4 to efficiently propagate polarity from seed predicates that directly report one's emotions (e.g., “to be glad” is positive). Suppose that events $x_1$ are $x_2$ are in the discourse relation of Cause (i.e., $x_1$ causes $x_2$). If the seed lexicon suggests $x_2$ is positive, $x_1$ is also likely to be positive because it triggers the positive emotion. The fact that $x_2$ is known to be negative indicates the negative polarity of $x_1$. Similarly, if $x_1$ and $x_2$ are in the discourse relation of Concession (i.e., $x_2$ in spite of $x_1$), the reverse of $x_2$'s polarity can be propagated to $x_1$. Even if $x_2$'s polarity is not known in advance, we can exploit the tendency of $x_1$ and $x_2$ to be of the same polarity (for Cause) or of the reverse polarity (for Concession) although the heuristic is not exempt from counterexamples. We transform this idea into objective functions and train neural network models that predict the polarity of a given event.\"]},\n",
       "     {'unanswerable': False,\n",
       "      'extractive_spans': [],\n",
       "      'yes_no': None,\n",
       "      'free_form_answer': 'cause relation: both events in the relation should have the same polarity; concession relation: events should have opposite polarity',\n",
       "      'evidence': [\"In this paper, we propose a simple and effective method for learning affective events that only requires a very small seed lexicon and a large raw corpus. As illustrated in Figure FIGREF1, our key idea is that we can exploit discourse relations BIBREF4 to efficiently propagate polarity from seed predicates that directly report one's emotions (e.g., “to be glad” is positive). Suppose that events $x_1$ are $x_2$ are in the discourse relation of Cause (i.e., $x_1$ causes $x_2$). If the seed lexicon suggests $x_2$ is positive, $x_1$ is also likely to be positive because it triggers the positive emotion. The fact that $x_2$ is known to be negative indicates the negative polarity of $x_1$. Similarly, if $x_1$ and $x_2$ are in the discourse relation of Concession (i.e., $x_2$ in spite of $x_1$), the reverse of $x_2$'s polarity can be propagated to $x_1$. Even if $x_2$'s polarity is not known in advance, we can exploit the tendency of $x_1$ and $x_2$ to be of the same polarity (for Cause) or of the reverse polarity (for Concession) although the heuristic is not exempt from counterexamples. We transform this idea into objective functions and train neural network models that predict the polarity of a given event.\",\n",
       "       'The seed lexicon consists of positive and negative predicates. If the predicate of an extracted event is in the seed lexicon and does not involve complex phenomena like negation, we assign the corresponding polarity score ($+1$ for positive events and $-1$ for negative events) to the event. We expect the model to automatically learn complex phenomena through label propagation. Based on the availability of scores and the types of discourse relations, we classify the extracted event pairs into the following three types.'],\n",
       "      'highlighted_evidence': [\"As illustrated in Figure FIGREF1, our key idea is that we can exploit discourse relations BIBREF4 to efficiently propagate polarity from seed predicates that directly report one's emotions (e.g., “to be glad” is positive). Suppose that events $x_1$ are $x_2$ are in the discourse relation of Cause (i.e., $x_1$ causes $x_2$). If the seed lexicon suggests $x_2$ is positive, $x_1$ is also likely to be positive because it triggers the positive emotion. The fact that $x_2$ is known to be negative indicates the negative polarity of $x_1$. Similarly, if $x_1$ and $x_2$ are in the discourse relation of Concession (i.e., $x_2$ in spite of $x_1$), the reverse of $x_2$'s polarity can be propagated to $x_1$. Even if $x_2$'s polarity is not known in advance, we can exploit the tendency of $x_1$ and $x_2$ to be of the same polarity (for Cause) or of the reverse polarity (for Concession) although the heuristic is not exempt from counterexamples. We transform this idea into objective functions and train neural network models that predict the polarity of a given event.\",\n",
       "       'The seed lexicon consists of positive and negative predicates. If the predicate of an extracted event is in the seed lexicon and does not involve complex phenomena like negation, we assign the corresponding polarity score ($+1$ for positive events and $-1$ for negative events) to the event. We expect the model to automatically learn complex phenomena through label propagation.']}],\n",
       "    'annotation_id': ['49a78a07d2eed545556a835ccf2eb40e5eee9801',\n",
       "     'acd6d15bd67f4b1496ee8af1c93c33e7d59c89e1'],\n",
       "    'worker_id': ['c1fbdd7a261021041f75fbe00a55b4c386ebbbb4',\n",
       "     '2cfd959e433f290bb50b55722370f0d22fe090b7']},\n",
       "   {'answer': [{'unanswerable': False,\n",
       "      'extractive_spans': [],\n",
       "      'yes_no': None,\n",
       "      'free_form_answer': '7000000 pairs of events were extracted from the Japanese Web corpus, 529850 pairs of events were extracted from the ACP corpus',\n",
       "      'evidence': ['As a raw corpus, we used a Japanese web corpus that was compiled through the procedures proposed by BIBREF13. To extract event pairs tagged with discourse relations, we used the Japanese dependency parser KNP and in-house postprocessing scripts BIBREF14. KNP used hand-written rules to segment each sentence into what we conventionally called clauses (mostly consecutive text chunks), each of which contained one main predicate. KNP also identified the discourse relations of event pairs if explicit discourse connectives BIBREF4 such as “ので” (because) and “のに” (in spite of) were present. We treated Cause/Reason (原因・理由) and Condition (条件) in the original tagset BIBREF15 as Cause and Concession (逆接) as Concession, respectively. Here is an example of event pair extraction.',\n",
       "       'We constructed our seed lexicon consisting of 15 positive words and 15 negative words, as shown in Section SECREF27. From the corpus of about 100 million sentences, we obtained 1.4 millions event pairs for AL, 41 millions for CA, and 6 millions for CO. We randomly selected subsets of AL event pairs such that positive and negative latter events were equal in size. We also sampled event pairs for each of CA and CO such that it was five times larger than AL. The results are shown in Table TABREF16.',\n",
       "       'FLOAT SELECTED: Table 1: Statistics of the AL, CA, and CO datasets.',\n",
       "       'We used the latest version of the ACP Corpus BIBREF12 for evaluation. It was used for (semi-)supervised training as well. Extracted from Japanese websites using HTML layouts and linguistic patterns, the dataset covered various genres. For example, the following two sentences were labeled positive and negative, respectively:',\n",
       "       'Although the ACP corpus was originally constructed in the context of sentiment analysis, we found that it could roughly be regarded as a collection of affective events. We parsed each sentence and extracted the last clause in it. The train/dev/test split of the data is shown in Table TABREF19.',\n",
       "       'FLOAT SELECTED: Table 2: Details of the ACP dataset.'],\n",
       "      'highlighted_evidence': ['As a raw corpus, we used a Japanese web corpus that was compiled through the procedures proposed by BIBREF13. ',\n",
       "       'From the corpus of about 100 million sentences, we obtained 1.4 millions event pairs for AL, 41 millions for CA, and 6 millions for CO. We randomly selected subsets of AL event pairs such that positive and negative latter events were equal in size. We also sampled event pairs for each of CA and CO such that it was five times larger than AL. The results are shown in Table TABREF16.',\n",
       "       'FLOAT SELECTED: Table 1: Statistics of the AL, CA, and CO datasets.',\n",
       "       'We used the latest version of the ACP Corpus BIBREF12 for evaluation. It was used for (semi-)supervised training as well.',\n",
       "       'Although the ACP corpus was originally constructed in the context of sentiment analysis, we found that it could roughly be regarded as a collection of affective events. We parsed each sentence and extracted the last clause in it. The train/dev/test split of the data is shown in Table TABREF19.',\n",
       "       'FLOAT SELECTED: Table 2: Details of the ACP dataset.']},\n",
       "     {'unanswerable': False,\n",
       "      'extractive_spans': [],\n",
       "      'yes_no': None,\n",
       "      'free_form_answer': 'The ACP corpus has around 700k events split into positive and negative polarity ',\n",
       "      'evidence': ['FLOAT SELECTED: Table 2: Details of the ACP dataset.'],\n",
       "      'highlighted_evidence': ['FLOAT SELECTED: Table 2: Details of the ACP dataset.']}],\n",
       "    'annotation_id': ['36926a4c9e14352c91111150aa4c6edcc5c0770f',\n",
       "     '75b6dd28ccab20a70087635d89c2b22d0e99095c'],\n",
       "    'worker_id': ['2cfd959e433f290bb50b55722370f0d22fe090b7',\n",
       "     'c1fbdd7a261021041f75fbe00a55b4c386ebbbb4']},\n",
       "   {'answer': [{'unanswerable': False,\n",
       "      'extractive_spans': ['negative', 'positive'],\n",
       "      'yes_no': None,\n",
       "      'free_form_answer': '',\n",
       "      'evidence': [\"Affective events BIBREF0 are events that typically affect people in positive or negative ways. For example, getting money and playing sports are usually positive to the experiencers; catching cold and losing one's wallet are negative. Understanding affective events is important to various natural language processing (NLP) applications such as dialogue systems BIBREF1, question-answering systems BIBREF2, and humor recognition BIBREF3. In this paper, we work on recognizing the polarity of an affective event that is represented by a score ranging from $-1$ (negative) to 1 (positive).\"],\n",
       "      'highlighted_evidence': ['In this paper, we work on recognizing the polarity of an affective event that is represented by a score ranging from $-1$ (negative) to 1 (positive).']}],\n",
       "    'annotation_id': ['2d8c7df145c37aad905e48f64d8caa69e54434d4'],\n",
       "    'worker_id': ['c1018a31c3272ce74964a3280069f62f314a1a58']},\n",
       "   {'answer': [{'unanswerable': False,\n",
       "      'extractive_spans': [],\n",
       "      'yes_no': None,\n",
       "      'free_form_answer': '3%',\n",
       "      'evidence': ['FLOAT SELECTED: Table 4: Results for small labeled training data. Given the performance with the full dataset, we show BERT trained only with the AL data.'],\n",
       "      'highlighted_evidence': ['FLOAT SELECTED: Table 4: Results for small labeled training data. Given the performance with the full dataset, we show BERT trained only with the AL data.']}],\n",
       "    'annotation_id': ['df4372b2e8d9bb2039a5582f192768953b01d904'],\n",
       "    'worker_id': ['c1018a31c3272ce74964a3280069f62f314a1a58']},\n",
       "   {'answer': [{'unanswerable': False,\n",
       "      'extractive_spans': [],\n",
       "      'yes_no': None,\n",
       "      'free_form_answer': 'by exploiting discourse relations to propagate polarity from seed predicates to final sentiment polarity',\n",
       "      'evidence': [\"In this paper, we propose a simple and effective method for learning affective events that only requires a very small seed lexicon and a large raw corpus. As illustrated in Figure FIGREF1, our key idea is that we can exploit discourse relations BIBREF4 to efficiently propagate polarity from seed predicates that directly report one's emotions (e.g., “to be glad” is positive). Suppose that events $x_1$ are $x_2$ are in the discourse relation of Cause (i.e., $x_1$ causes $x_2$). If the seed lexicon suggests $x_2$ is positive, $x_1$ is also likely to be positive because it triggers the positive emotion. The fact that $x_2$ is known to be negative indicates the negative polarity of $x_1$. Similarly, if $x_1$ and $x_2$ are in the discourse relation of Concession (i.e., $x_2$ in spite of $x_1$), the reverse of $x_2$'s polarity can be propagated to $x_1$. Even if $x_2$'s polarity is not known in advance, we can exploit the tendency of $x_1$ and $x_2$ to be of the same polarity (for Cause) or of the reverse polarity (for Concession) although the heuristic is not exempt from counterexamples. We transform this idea into objective functions and train neural network models that predict the polarity of a given event.\"],\n",
       "      'highlighted_evidence': [\"In this paper, we propose a simple and effective method for learning affective events that only requires a very small seed lexicon and a large raw corpus. As illustrated in Figure FIGREF1, our key idea is that we can exploit discourse relations BIBREF4 to efficiently propagate polarity from seed predicates that directly report one's emotions (e.g., “to be glad” is positive).\"]}],\n",
       "    'annotation_id': ['5c5bbc8af91c16af89b4ddd57ee6834be018e4e7'],\n",
       "    'worker_id': ['c1018a31c3272ce74964a3280069f62f314a1a58']},\n",
       "   {'answer': [{'unanswerable': False,\n",
       "      'extractive_spans': [],\n",
       "      'yes_no': None,\n",
       "      'free_form_answer': '30 words',\n",
       "      'evidence': ['We constructed our seed lexicon consisting of 15 positive words and 15 negative words, as shown in Section SECREF27. From the corpus of about 100 million sentences, we obtained 1.4 millions event pairs for AL, 41 millions for CA, and 6 millions for CO. We randomly selected subsets of AL event pairs such that positive and negative latter events were equal in size. We also sampled event pairs for each of CA and CO such that it was five times larger than AL. The results are shown in Table TABREF16.'],\n",
       "      'highlighted_evidence': ['We constructed our seed lexicon consisting of 15 positive words and 15 negative words, as shown in Section SECREF27. ']}],\n",
       "    'annotation_id': ['0206f2131f64a3e02498cedad1250971b78ffd0c'],\n",
       "    'worker_id': ['c1018a31c3272ce74964a3280069f62f314a1a58']},\n",
       "   {'answer': [{'unanswerable': False,\n",
       "      'extractive_spans': ['100 million sentences'],\n",
       "      'yes_no': None,\n",
       "      'free_form_answer': '',\n",
       "      'evidence': ['As a raw corpus, we used a Japanese web corpus that was compiled through the procedures proposed by BIBREF13. To extract event pairs tagged with discourse relations, we used the Japanese dependency parser KNP and in-house postprocessing scripts BIBREF14. KNP used hand-written rules to segment each sentence into what we conventionally called clauses (mostly consecutive text chunks), each of which contained one main predicate. KNP also identified the discourse relations of event pairs if explicit discourse connectives BIBREF4 such as “ので” (because) and “のに” (in spite of) were present. We treated Cause/Reason (原因・理由) and Condition (条件) in the original tagset BIBREF15 as Cause and Concession (逆接) as Concession, respectively. Here is an example of event pair extraction.',\n",
       "       'We constructed our seed lexicon consisting of 15 positive words and 15 negative words, as shown in Section SECREF27. From the corpus of about 100 million sentences, we obtained 1.4 millions event pairs for AL, 41 millions for CA, and 6 millions for CO. We randomly selected subsets of AL event pairs such that positive and negative latter events were equal in size. We also sampled event pairs for each of CA and CO such that it was five times larger than AL. The results are shown in Table TABREF16.'],\n",
       "      'highlighted_evidence': ['As a raw corpus, we used a Japanese web corpus that was compiled through the procedures proposed by BIBREF13. ',\n",
       "       'From the corpus of about 100 million sentences, we obtained 1.4 millions event pairs for AL, 41 millions for CA, and 6 millions for CO.']}],\n",
       "    'annotation_id': ['c36bad2758c4f9866d64c357c475d370595d937f'],\n",
       "    'worker_id': ['c1018a31c3272ce74964a3280069f62f314a1a58']}]},\n",
       " 'figures_and_tables': {'caption': ['Figure 1: An overview of our method. We focus on pairs of events, the former events and the latter events, which are connected with a discourse relation, CAUSE or CONCESSION. Dropped pronouns are indicated by brackets in English translations. We divide the event pairs into three types: AL, CA, and CO. In AL, the polarity of a latter event is automatically identified as either positive or negative, according to the seed lexicon (the positive word is colored red and the negative word blue). We propagate the latter event’s polarity to the former event. The same polarity as the latter event is used for the discourse relation CAUSE, and the reversed polarity for CONCESSION. In CA and CO, the latter event’s polarity is not known. Depending on the discourse relation, we encourage the two events’ polarities to be the same (CA) or reversed (CO). Details are given in Section 3.2.',\n",
       "   'Table 1: Statistics of the AL, CA, and CO datasets.',\n",
       "   'Table 2: Details of the ACP dataset.',\n",
       "   'Table 5: Examples of polarity scores predicted by the BiGRU model trained with AL+CA+CO.',\n",
       "   'Table 3: Performance of various models on the ACP test set.',\n",
       "   'Table 4: Results for small labeled training data. Given the performance with the full dataset, we show BERT trained only with the AL data.'],\n",
       "  'file': ['2-Figure1-1.png',\n",
       "   '4-Table1-1.png',\n",
       "   '4-Table2-1.png',\n",
       "   '5-Table5-1.png',\n",
       "   '5-Table3-1.png',\n",
       "   '5-Table4-1.png']}}"
      ]
     },
     "metadata": {},
     "output_type": "display_data"
    }
   ],
   "source": [
    "display(dataset['train'][0])"
   ]
  },
  {
   "cell_type": "markdown",
   "metadata": {},
   "source": [
    "## TRAIN SET"
   ]
  },
  {
   "cell_type": "code",
   "execution_count": 20,
   "metadata": {},
   "outputs": [
    {
     "data": {
      "image/png": "[encoded data removed]",
      "text/plain": [
       "<Figure size 640x480 with 1 Axes>"
      ]
     },
     "metadata": {},
     "output_type": "display_data"
    }
   ],
   "source": [
    "# draw bar plot of the number of questions\n",
    "import matplotlib.pyplot as plt\n",
    "\n",
    "num_questions = [len(dataset['train'][i]['qas']['question']) for i in range(len(dataset['train']))]\n",
    "plt.hist(num_questions, bins=12, range=(0.5, 12.5))\n",
    "plt.title('Number of questions per article')\n",
    "plt.xlabel('Number of questions')\n",
    "plt.ylabel('Number of article')\n",
    "plt.show()\n"
   ]
  },
  {
   "cell_type": "code",
   "execution_count": 45,
   "metadata": {},
   "outputs": [
    {
     "name": "stdout",
     "output_type": "stream",
     "text": [
      "Number of answers:  2675\n",
      "Number of free form answers:  622\n",
      "Number of extractive answers:  1363\n",
      "Number of unanswerable questions:  281\n",
      "Average number of answers per question:  1.031623602005399\n"
     ]
    },
    {
     "data": {
      "image/png": "[encoded data removed]",
      "text/plain": [
       "<Figure size 640x480 with 1 Axes>"
      ]
     },
     "metadata": {},
     "output_type": "display_data"
    },
    {
     "data": {
      "image/png": "[encoded data removed]",
      "text/plain": [
       "<Figure size 640x480 with 1 Axes>"
      ]
     },
     "metadata": {},
     "output_type": "display_data"
    }
   ],
   "source": [
    "# draw histogram of average number of answers per question\n",
    "num_avgs = []\n",
    "all_answer_counts = []\n",
    "num_free_form_answers = 0\n",
    "num_extractive_answers = 0\n",
    "num_unanswerable = 0\n",
    "abstract_lengths = []\n",
    "for article in dataset['train']:\n",
    "    abstract_lengths.append(len(article['abstract'].split(' ')))\n",
    "    for answers in article['qas']['answers']:\n",
    "        for answer_dict in answers['answer']:\n",
    "            if answer_dict['free_form_answer'] != '':\n",
    "                num_free_form_answers += 1\n",
    "            if len(answer_dict['extractive_spans']) != 0:\n",
    "                num_extractive_answers += 1\n",
    "            if answer_dict['unanswerable'] == True:\n",
    "                num_unanswerable += 1\n",
    "    answer_counts = [len(answers['answer']) for answers in article['qas']['answers']]\n",
    "    num_avgs.append(sum(answer_counts) / len(answer_counts))\n",
    "    all_answer_counts.extend(answer_counts)\n",
    "\n",
    "print('Number of answers: ', sum(all_answer_counts))\n",
    "print('Number of free form answers: ', num_free_form_answers)\n",
    "print('Number of extractive answers: ', num_extractive_answers)\n",
    "print('Number of unanswerable questions: ', num_unanswerable)\n",
    "print('Average number of answers per question: ', sum(all_answer_counts) / len(all_answer_counts))\n",
    "plt.hist(num_avgs)\n",
    "plt.title('Average number of answers per question')\n",
    "plt.xlabel('Average number of answers')\n",
    "plt.ylabel('Number of articles')\n",
    "plt.show()\n",
    "\n",
    "# draw histogram of abstract lengths\n",
    "plt.hist(abstract_lengths, bins=50, range=(0, 300))\n",
    "plt.title('Abstract lengths in words')\n",
    "plt.xlabel('Abstract length (in words)')\n",
    "plt.ylabel('Number of articles')\n",
    "plt.show()"
   ]
  },
  {
   "cell_type": "markdown",
   "metadata": {},
   "source": [
    "## TEST SET"
   ]
  },
  {
   "cell_type": "code",
   "execution_count": 76,
   "metadata": {},
   "outputs": [
    {
     "name": "stdout",
     "output_type": "stream",
     "text": [
      "Number of questions in test set:  1451\n"
     ]
    },
    {
     "data": {
      "image/png": "[encoded data removed]",
      "text/plain": [
       "<Figure size 640x480 with 1 Axes>"
      ]
     },
     "metadata": {},
     "output_type": "display_data"
    }
   ],
   "source": [
    "num_questions = [len(dataset['test'][i]['qas']['question']) for i in range(len(dataset['test']))]\n",
    "print('Number of questions in test set: ', sum(num_questions)) \n",
    "plt.hist(num_questions, bins=12, range=(0.5, 12.5))\n",
    "plt.title('Number of questions per article')\n",
    "plt.xlabel('Number of questions')\n",
    "plt.ylabel('Number of article')\n",
    "plt.show()\n"
   ]
  },
  {
   "cell_type": "code",
   "execution_count": 49,
   "metadata": {},
   "outputs": [
    {
     "name": "stdout",
     "output_type": "stream",
     "text": [
      "Number of answers:  3554\n",
      "Number of free form answers:  878\n",
      "Number of extractive answers:  1817\n",
      "Number of unanswerable questions:  366\n",
      "Average number of answers per question:  2.44934527911785\n"
     ]
    },
    {
     "data": {
      "image/png": "[encoded data removed]",
      "text/plain": [
       "<Figure size 640x480 with 1 Axes>"
      ]
     },
     "metadata": {},
     "output_type": "display_data"
    },
    {
     "data": {
      "image/png": "[encoded data removed]",
      "text/plain": [
       "<Figure size 640x480 with 1 Axes>"
      ]
     },
     "metadata": {},
     "output_type": "display_data"
    }
   ],
   "source": [
    "# draw histogram of average number of answers per question\n",
    "num_avgs = []\n",
    "all_answer_counts = []\n",
    "num_free_form_answers = 0\n",
    "num_extractive_answers = 0\n",
    "num_unanswerable = 0\n",
    "abstract_lengths = []\n",
    "for article in dataset['test']:\n",
    "    abstract_lengths.append(len(article['abstract'].split(' ')))\n",
    "    for answers in article['qas']['answers']:\n",
    "        for answer_dict in answers['answer']:\n",
    "            if answer_dict['free_form_answer'] != '':\n",
    "                num_free_form_answers += 1\n",
    "            if len(answer_dict['extractive_spans']) != 0:\n",
    "                num_extractive_answers += 1\n",
    "            if answer_dict['unanswerable'] == True:\n",
    "                num_unanswerable += 1\n",
    "    answer_counts = [len(answers['answer']) for answers in article['qas']['answers']]\n",
    "    num_avgs.append(sum(answer_counts) / len(answer_counts))\n",
    "    all_answer_counts.extend(answer_counts)\n",
    "\n",
    "print('Number of answers: ', sum(all_answer_counts))\n",
    "print('Number of free form answers: ', num_free_form_answers)\n",
    "print('Number of extractive answers: ', num_extractive_answers)\n",
    "print('Number of unanswerable questions: ', num_unanswerable)\n",
    "print('Average number of answers per question: ', sum(all_answer_counts) / len(all_answer_counts))\n",
    "plt.hist(num_avgs)\n",
    "plt.title('Average number of answers per question')\n",
    "plt.xlabel('Average number of answers')\n",
    "plt.ylabel('Number of articles')\n",
    "plt.show()\n",
    "\n",
    "# draw histogram of abstract lengths\n",
    "plt.hist(abstract_lengths, bins=50, range=(0, 300))\n",
    "plt.title('Abstract lengths in words')\n",
    "plt.xlabel('Abstract length (in words)')\n",
    "plt.ylabel('Number of articles')\n",
    "plt.show()"
   ]
  },
  {
   "cell_type": "markdown",
   "metadata": {},
   "source": [
    "## FLATTENING"
   ]
  },
  {
   "cell_type": "code",
   "execution_count": 55,
   "metadata": {},
   "outputs": [],
   "source": [
    "import random"
   ]
  },
  {
   "cell_type": "code",
   "execution_count": 57,
   "metadata": {},
   "outputs": [
    {
     "name": "stdout",
     "output_type": "stream",
     "text": [
      "['i', 'a', 'f', 'b', 'j', 'd', 'e', 'g', 'h', 'c']\n"
     ]
    }
   ],
   "source": [
    "a = [\"a\", \"b\", \"c\", \"d\", \"e\", \"f\", \"g\", \"h\", \"i\", \"j\"]\n",
    "random.shuffle(a)\n",
    "print(a)"
   ]
  },
  {
   "cell_type": "code",
   "execution_count": 67,
   "metadata": {},
   "outputs": [
    {
     "data": {
      "text/plain": [
       "{'question': 'What is the seed lexicon?',\n",
       " 'context': 'Recognizing affective events that trigger positive or negative sentiment has a wide range of natural language processing applications but remains a challenging problem mainly because the polarity of an event is not necessarily predictable from its constituent words. In this paper, we propose to propagate affective polarity using discourse relations. Our method is simple and only requires a very small seed lexicon and a large raw corpus. Our experiments using Japanese data show that our method learns affective events effectively without manually labeled data. It also improves supervised learning results when labeled data are small.',\n",
       " 'answer': 'a vocabulary of positive and negative predicates that helps determine the polarity score of an event'}"
      ]
     },
     "metadata": {},
     "output_type": "display_data"
    },
    {
     "data": {
      "text/plain": [
       "{'question': 'How big is the ANTISCAM dataset? ',\n",
       " 'context': 'End-to-end task-oriented dialog models have achieved promising performance on collaborative tasks where users willingly coordinate with the system to complete a given task. While in non-collaborative settings, for example, negotiation and persuasion, users and systems do not share a common goal. As a result, compared to collaborate tasks, people use social content to build rapport and trust in these non-collaborative settings in order to advance their goals. To handle social content, we introduce a hierarchical intent annotation scheme, which can be generalized to different non-collaborative dialog tasks. Building upon TransferTransfo (Wolf et al. 2019), we propose an end-to-end neural network model to generate diverse coherent responses. Our model utilizes intent and semantic slots as the intermediate sentence representation to guide the generation process. In addition, we design a filter to select appropriate responses based on whether these intermediate representations fit the designed task and conversation constraints. Our non-collaborative dialog model guides users to complete the task while simultaneously keeps them engaged. We test our approach on our newly proposed ANTISCAM dataset and an existing PERSUASIONFORGOOD dataset. Both automatic and human evaluations suggest that our model outperforms multiple baselines in these two non-collaborative tasks.',\n",
       " 'answer': '220 human-human dialogs. '}"
      ]
     },
     "metadata": {},
     "output_type": "display_data"
    }
   ],
   "source": [
    "# train_sample = {\n",
    "#     'question': xxx,\n",
    "#     'context': xxx,\n",
    "#     'answer': xxx (randomly selected of the possible answers)\n",
    "# }\n",
    "\n",
    "train_samples = []\n",
    "for article in dataset['train']:\n",
    "    for i, question in enumerate(article['qas']['question']):\n",
    "        answers = article['qas']['answers'][i]['answer']\n",
    "        # shuffle answers\n",
    "        random.shuffle(answers)\n",
    "        for answer_dict in answers:\n",
    "            if answer_dict['free_form_answer'] != '':\n",
    "                train_samples.append({\n",
    "                    'question': question,\n",
    "                    'context': article['abstract'],\n",
    "                    'answer': answer_dict['free_form_answer']\n",
    "                })\n",
    "                break\n",
    "            elif len(answer_dict['extractive_spans']) != 0:\n",
    "                train_samples.append({\n",
    "                    'question': question,\n",
    "                    'context': article['abstract'],\n",
    "                    'answer': answer_dict['extractive_spans'][0]\n",
    "                })\n",
    "                break\n",
    "\n",
    "display(train_samples[0])\n",
    "\n",
    "test_samples = []\n",
    "for article in dataset['test']:\n",
    "    for i, question in enumerate(article['qas']['question']):\n",
    "        answers = article['qas']['answers'][i]['answer']\n",
    "        # shuffle answers\n",
    "        random.shuffle(answers)\n",
    "        for answer_dict in answers:\n",
    "            if answer_dict['free_form_answer'] != '':\n",
    "                test_samples.append({\n",
    "                    'question': question,\n",
    "                    'context': article['abstract'],\n",
    "                    'answer': answer_dict['free_form_answer']\n",
    "                })\n",
    "                break\n",
    "            elif len(answer_dict['extractive_spans']) != 0:\n",
    "                test_samples.append({\n",
    "                    'question': question,\n",
    "                    'context': article['abstract'],\n",
    "                    'answer': answer_dict['extractive_spans'][0]\n",
    "                })\n",
    "                break\n",
    "\n",
    "display(test_samples[0])\n",
    "\n",
    "train_abstracts = [sample['context'] for sample in train_samples]\n",
    "train_questions = [sample['question'] for sample in train_samples]\n",
    "train_answers = [sample['answer'] for sample in train_samples]\n",
    "\n",
    "test_abstracts = [sample['context'] for sample in test_samples]\n",
    "test_questions = [sample['question'] for sample in test_samples]\n",
    "test_answers = [sample['answer'] for sample in test_samples]\n",
    "\n",
    "train = {'abstract': train_abstracts, 'question': train_questions, 'answer': train_answers}\n",
    "test = {'abstract': test_abstracts, 'question': test_questions, 'answer': test_answers}"
   ]
  },
  {
   "cell_type": "code",
   "execution_count": 72,
   "metadata": {},
   "outputs": [
    {
     "data": {
      "text/plain": [
       "{'abstract': 'Recognizing affective events that trigger positive or negative sentiment has a wide range of natural language processing applications but remains a challenging problem mainly because the polarity of an event is not necessarily predictable from its constituent words. In this paper, we propose to propagate affective polarity using discourse relations. Our method is simple and only requires a very small seed lexicon and a large raw corpus. Our experiments using Japanese data show that our method learns affective events effectively without manually labeled data. It also improves supervised learning results when labeled data are small.',\n",
       " 'question': 'What is the seed lexicon?',\n",
       " 'answer': 'a vocabulary of positive and negative predicates that helps determine the polarity score of an event'}"
      ]
     },
     "metadata": {},
     "output_type": "display_data"
    }
   ],
   "source": [
    "train_dataset = datasets.Dataset.from_dict(train)\n",
    "test_dataset = datasets.Dataset.from_dict(test)\n",
    "\n",
    "flattened_dataset = datasets.DatasetDict({'train': train_dataset, 'test': test_dataset})\n",
    "\n",
    "assert len(train_abstracts) == len(train_questions) == len(train_answers)\n",
    "assert len(test_abstracts) == len(test_questions) == len(test_answers)\n",
    "\n",
    "display(flattened_dataset['train'][0])"
   ]
  },
  {
   "cell_type": "code",
   "execution_count": 75,
   "metadata": {},
   "outputs": [
    {
     "data": {
      "text/plain": [
       "DatasetDict({\n",
       "    train: Dataset({\n",
       "        features: ['abstract', 'question', 'answer'],\n",
       "        num_rows: 1559\n",
       "    })\n",
       "    test: Dataset({\n",
       "        features: ['abstract', 'question', 'answer'],\n",
       "        num_rows: 1167\n",
       "    })\n",
       "    val: Dataset({\n",
       "        features: ['abstract', 'question', 'answer'],\n",
       "        num_rows: 174\n",
       "    })\n",
       "})"
      ]
     },
     "metadata": {},
     "output_type": "display_data"
    }
   ],
   "source": [
    "# randomly choose 10% of the training data as validation data from flattened dataset\n",
    "temp = flattened_dataset[\"train\"].train_test_split(test_size=0.1, shuffle=True, seed=SEED)\n",
    "flattened_dataset[\"train\"] = temp[\"train\"]\n",
    "flattened_dataset[\"val\"] = temp[\"test\"]\n",
    "\n",
    "display(flattened_dataset)"
   ]
  },
  {
   "cell_type": "code",
   "execution_count": 167,
   "metadata": {},
   "outputs": [
    {
     "name": "stderr",
     "output_type": "stream",
     "text": [
      "/home/jerome/anaconda3/envs/umlia23/lib/python3.9/site-packages/transformers/models/t5/tokenization_t5_fast.py:155: FutureWarning: This tokenizer was incorrectly instantiated with a model max length of 512 which will be corrected in Transformers v5.\n",
      "For now, this behavior is kept to avoid breaking backwards compatibility when padding/encoding with `truncation is True`.\n",
      "- Be aware that you SHOULD NOT rely on t5-base automatically truncating your input to 512 when padding/encoding.\n",
      "- If you want to encode/pad to sequences longer than 512 you can either instantiate this tokenizer with `model_max_length` or pass `max_length` when encoding/padding.\n",
      "- To avoid this warning, please instantiate this tokenizer with `model_max_length` set to your preferred value.\n",
      "  warnings.warn(\n"
     ]
    }
   ],
   "source": [
    "from transformers import AutoTokenizer\n",
    "import torch\n",
    "\n",
    "# Notice that since we are working with an encoder-decoder model here, you need to tokenize, truncate and pad the input sequence, i.e., question: {question} context: {abstract}, as well as the output sequence, i.e., answer.\n",
    "\n",
    "tokenizer = AutoTokenizer.from_pretrained(\"t5-base\")\n",
    "\n",
    "def preprocess_function(sample: Dict, max_qc_len: int, max_ans_len: int):\n",
    "    \"\"\"\n",
    "    Preprocesses a single sample dictionary, each containing:\n",
    "        'question': question,\n",
    "        'abstract': article['abstract'],\n",
    "        'answer': answer\n",
    "\n",
    "    Tokenizes the question and context, and truncates the concatenation to max_qc_len.\n",
    "    Tokenizes the answer and truncates to max_ans_len.\n",
    "    \"\"\"\n",
    "\n",
    "    # Tokenize the question and context pair\n",
    "    qc_pair = tokenizer(\n",
    "        sample[\"question\"],\n",
    "        sample[\"abstract\"],\n",
    "        max_length=max_qc_len,\n",
    "        truncation=True,\n",
    "        padding=\"max_length\",\n",
    "    )\n",
    "\n",
    "    # Tokenize the answer\n",
    "    ans = tokenizer(\n",
    "        sample[\"answer\"],\n",
    "        max_length=max_ans_len,\n",
    "        truncation=True,\n",
    "        padding=\"max_length\",\n",
    "    )\n",
    "\n",
    "    return {\n",
    "        \"input_ids\": qc_pair.input_ids,\n",
    "        \"attention_mask\": qc_pair.attention_mask,\n",
    "        \"labels\": ans.input_ids,\n",
    "        \"decoder_attention_mask\": ans.attention_mask,\n",
    "    }\n",
    "    "
   ]
  },
  {
   "cell_type": "code",
   "execution_count": 103,
   "metadata": {},
   "outputs": [
    {
     "data": {
      "application/vnd.jupyter.widget-view+json": {
       "model_id": "f4574e5a4c5b4c968c8929e8502137d1",
       "version_major": 2,
       "version_minor": 0
      },
      "text/plain": [
       "Map:   0%|          | 0/1559 [00:00<?, ? examples/s]"
      ]
     },
     "metadata": {},
     "output_type": "display_data"
    },
    {
     "data": {
      "application/vnd.jupyter.widget-view+json": {
       "model_id": "f5db158664f34d9881e456fb0310fa92",
       "version_major": 2,
       "version_minor": 0
      },
      "text/plain": [
       "Map:   0%|          | 0/1167 [00:00<?, ? examples/s]"
      ]
     },
     "metadata": {},
     "output_type": "display_data"
    },
    {
     "data": {
      "application/vnd.jupyter.widget-view+json": {
       "model_id": "308de4ee98324f1ab11d7e64475bd94f",
       "version_major": 2,
       "version_minor": 0
      },
      "text/plain": [
       "Map:   0%|          | 0/174 [00:00<?, ? examples/s]"
      ]
     },
     "metadata": {},
     "output_type": "display_data"
    }
   ],
   "source": [
    "encoded_ds = flattened_dataset.map(\n",
    "    preprocess_function,\n",
    "    batched=True,\n",
    "    fn_kwargs={\"max_qc_len\": 128, \"max_ans_len\": 32},\n",
    ")"
   ]
  },
  {
   "cell_type": "code",
   "execution_count": 150,
   "metadata": {},
   "outputs": [],
   "source": [
    "# load google/t5-efficient-mini\n",
    "from transformers import T5ForConditionalGeneration\n",
    "model = T5ForConditionalGeneration.from_pretrained(\"google/t5-efficient-mini\")"
   ]
  },
  {
   "cell_type": "code",
   "execution_count": 151,
   "metadata": {},
   "outputs": [],
   "source": [
    "import wandb\n",
    "import os\n",
    "# set the wandb project where this run will be logged\n",
    "os.environ[\"WANDB_PROJECT\"]=\"my-awesome-project\"\n",
    "\n",
    "# save your trained model checkpoint to wandb\n",
    "os.environ[\"WANDB_LOG_MODEL\"]=\"true\"\n",
    "\n",
    "# turn off watch to log faster\n",
    "os.environ[\"WANDB_WATCH\"]=\"false\"\n",
    "\n",
    "from transformers import Seq2SeqTrainer, Seq2SeqTrainingArguments\n",
    "\n",
    "training_args = Seq2SeqTrainingArguments(\n",
    "    per_device_train_batch_size=1,\n",
    "    per_device_eval_batch_size=1,\n",
    "    learning_rate=5e-4,\n",
    "    weight_decay=0.001,\n",
    "    # prediction_loss_only=True,\n",
    "    lr_scheduler_type=\"cosine\",\n",
    "    output_dir=\"./results_scratch\",\n",
    "    evaluation_strategy=\"epoch\",\n",
    "    save_strategy=\"epoch\",\n",
    "    load_best_model_at_end=True,\n",
    "    seed=SEED,\n",
    "    num_train_epochs=5,\n",
    "    logging_dir='./logs',\n",
    "    report_to=\"wandb\",\n",
    "    logging_steps=10,\n",
    ")\n",
    "\n",
    "trainer = Seq2SeqTrainer(\n",
    "    model=model,\n",
    "    args=training_args,\n",
    "    train_dataset=encoded_ds['train'],\n",
    "    eval_dataset=encoded_ds['val'],\n",
    ")"
   ]
  },
  {
   "cell_type": "code",
   "execution_count": 152,
   "metadata": {},
   "outputs": [
    {
     "data": {
      "text/html": [
       "Finishing last run (ID:4xe1fpd7) before initializing another..."
      ],
      "text/plain": [
       "<IPython.core.display.HTML object>"
      ]
     },
     "metadata": {},
     "output_type": "display_data"
    },
    {
     "data": {
      "text/html": [
       "Waiting for W&B process to finish... <strong style=\"color:green\">(success).</strong>"
      ],
      "text/plain": [
       "<IPython.core.display.HTML object>"
      ]
     },
     "metadata": {},
     "output_type": "display_data"
    },
    {
     "data": {
      "application/vnd.jupyter.widget-view+json": {
       "model_id": "8de963ec015d408e88635b16bff48a03",
       "version_major": 2,
       "version_minor": 0
      },
      "text/plain": [
       "VBox(children=(Label(value='119.135 MB of 119.135 MB uploaded (0.000 MB deduped)\\r'), FloatProgress(value=1.0,…"
      ]
     },
     "metadata": {},
     "output_type": "display_data"
    },
    {
     "data": {
      "text/html": [
       "<style>\n",
       "    table.wandb td:nth-child(1) { padding: 0 10px; text-align: left ; width: auto;} td:nth-child(2) {text-align: left ; width: 100%}\n",
       "    .wandb-row { display: flex; flex-direction: row; flex-wrap: wrap; justify-content: flex-start; width: 100% }\n",
       "    .wandb-col { display: flex; flex-direction: column; flex-basis: 100%; flex: 1; padding: 10px; }\n",
       "    </style>\n",
       "<div class=\"wandb-row\"><div class=\"wandb-col\"><h3>Run history:</h3><br/><table class=\"wandb\"><tr><td>eval/loss</td><td>█▅▃▃▃▃▄▁▄▁</td></tr><tr><td>eval/runtime</td><td>▁▃▃▆▂▄▄▂█▅</td></tr><tr><td>eval/samples_per_second</td><td>█▆▆▃▇▅▅▇▁▄</td></tr><tr><td>eval/steps_per_second</td><td>█▆▆▃▇▅▅▇▁▄</td></tr><tr><td>train/epoch</td><td>▁▁▂▂▂▃▃▄▄▄▅▅▅▆▆▆▇▇▇██▁▂▂▂▃▃▃▄▁▁▂▂▂▃▃▃▄▄▄</td></tr><tr><td>train/global_step</td><td>▁▁▂▂▂▃▃▄▄▄▅▅▅▆▆▆▇▇▇██▁▂▂▂▃▃▃▄▁▁▂▂▂▃▃▃▄▄▄</td></tr><tr><td>train/learning_rate</td><td>▂▂▂▂▂▂▂▂▁▁▁▁▁▁▁▁▁▁▁▁████▇▇▇▆▆████▇▇▆▆▅▅▄</td></tr><tr><td>train/loss</td><td>█▃▄▄▂▃▂▂▃▂▃▃▄▄▃▂▃▃▃▂▃▃▄▂▂▂▂▁▂▃▂▄▃▁▂▂▁▁▁▂</td></tr><tr><td>train/total_flos</td><td>▁</td></tr><tr><td>train/train_loss</td><td>▁</td></tr><tr><td>train/train_runtime</td><td>▁</td></tr><tr><td>train/train_samples_per_second</td><td>▁</td></tr><tr><td>train/train_steps_per_second</td><td>▁</td></tr></table><br/></div><div class=\"wandb-col\"><h3>Run summary:</h3><br/><table class=\"wandb\"><tr><td>eval/loss</td><td>2.37552</td></tr><tr><td>eval/runtime</td><td>0.9065</td></tr><tr><td>eval/samples_per_second</td><td>191.953</td></tr><tr><td>eval/steps_per_second</td><td>191.953</td></tr><tr><td>train/epoch</td><td>2.64</td></tr><tr><td>train/global_step</td><td>4120</td></tr><tr><td>train/learning_rate</td><td>0.00023</td></tr><tr><td>train/loss</td><td>2.6091</td></tr><tr><td>train/total_flos</td><td>113043110952960.0</td></tr><tr><td>train/train_loss</td><td>3.052</td></tr><tr><td>train/train_runtime</td><td>174.008</td></tr><tr><td>train/train_samples_per_second</td><td>44.797</td></tr><tr><td>train/train_steps_per_second</td><td>44.797</td></tr></table><br/></div></div>"
      ],
      "text/plain": [
       "<IPython.core.display.HTML object>"
      ]
     },
     "metadata": {},
     "output_type": "display_data"
    },
    {
     "data": {
      "text/html": [
       " View run <strong style=\"color:#cdcd00\">wise-planet-1</strong> at: <a href='https://wandb.ai/nlp_2023_romibomi_und_paulus_maximus/my-awesome-project/runs/4xe1fpd7' target=\"_blank\">https://wandb.ai/nlp_2023_romibomi_und_paulus_maximus/my-awesome-project/runs/4xe1fpd7</a><br/>Synced 6 W&B file(s), 0 media file(s), 4 artifact file(s) and 0 other file(s)"
      ],
      "text/plain": [
       "<IPython.core.display.HTML object>"
      ]
     },
     "metadata": {},
     "output_type": "display_data"
    },
    {
     "data": {
      "text/html": [
       "Find logs at: <code>./wandb/run-20230712_153044-4xe1fpd7/logs</code>"
      ],
      "text/plain": [
       "<IPython.core.display.HTML object>"
      ]
     },
     "metadata": {},
     "output_type": "display_data"
    },
    {
     "data": {
      "text/html": [
       "Successfully finished last run (ID:4xe1fpd7). Initializing new run:<br/>"
      ],
      "text/plain": [
       "<IPython.core.display.HTML object>"
      ]
     },
     "metadata": {},
     "output_type": "display_data"
    },
    {
     "name": "stdout",
     "output_type": "stream",
     "text": [
      "huggingface/tokenizers: The current process just got forked, after parallelism has already been used. Disabling parallelism to avoid deadlocks...\n",
      "To disable this warning, you can either:\n",
      "\t- Avoid using `tokenizers` before the fork if possible\n",
      "\t- Explicitly set the environment variable TOKENIZERS_PARALLELISM=(true | false)\n"
     ]
    },
    {
     "data": {
      "application/vnd.jupyter.widget-view+json": {
       "model_id": "ddfe6ff0a8494e38a15b23e56f8aba4d",
       "version_major": 2,
       "version_minor": 0
      },
      "text/plain": [
       "VBox(children=(Label(value='Waiting for wandb.init()...\\r'), FloatProgress(value=0.01666878823331596, max=1.0)…"
      ]
     },
     "metadata": {},
     "output_type": "display_data"
    },
    {
     "data": {
      "text/html": [
       "Tracking run with wandb version 0.15.5"
      ],
      "text/plain": [
       "<IPython.core.display.HTML object>"
      ]
     },
     "metadata": {},
     "output_type": "display_data"
    },
    {
     "data": {
      "text/html": [
       "Run data is saved locally in <code>/mnt/c/Uni_Master/NLP/exec_05/wandb/run-20230712_154033-gd2gmm3z</code>"
      ],
      "text/plain": [
       "<IPython.core.display.HTML object>"
      ]
     },
     "metadata": {},
     "output_type": "display_data"
    },
    {
     "data": {
      "text/html": [
       "Syncing run <strong><a href='https://wandb.ai/nlp_2023_romibomi_und_paulus_maximus/my-awesome-project/runs/gd2gmm3z' target=\"_blank\">ethereal-sponge-2</a></strong> to <a href='https://wandb.ai/nlp_2023_romibomi_und_paulus_maximus/my-awesome-project' target=\"_blank\">Weights & Biases</a> (<a href='https://wandb.me/run' target=\"_blank\">docs</a>)<br/>"
      ],
      "text/plain": [
       "<IPython.core.display.HTML object>"
      ]
     },
     "metadata": {},
     "output_type": "display_data"
    },
    {
     "data": {
      "text/html": [
       " View project at <a href='https://wandb.ai/nlp_2023_romibomi_und_paulus_maximus/my-awesome-project' target=\"_blank\">https://wandb.ai/nlp_2023_romibomi_und_paulus_maximus/my-awesome-project</a>"
      ],
      "text/plain": [
       "<IPython.core.display.HTML object>"
      ]
     },
     "metadata": {},
     "output_type": "display_data"
    },
    {
     "data": {
      "text/html": [
       " View run at <a href='https://wandb.ai/nlp_2023_romibomi_und_paulus_maximus/my-awesome-project/runs/gd2gmm3z' target=\"_blank\">https://wandb.ai/nlp_2023_romibomi_und_paulus_maximus/my-awesome-project/runs/gd2gmm3z</a>"
      ],
      "text/plain": [
       "<IPython.core.display.HTML object>"
      ]
     },
     "metadata": {},
     "output_type": "display_data"
    },
    {
     "name": "stderr",
     "output_type": "stream",
     "text": [
      "/home/jerome/anaconda3/envs/umlia23/lib/python3.9/site-packages/transformers/optimization.py:407: FutureWarning: This implementation of AdamW is deprecated and will be removed in a future version. Use the PyTorch implementation torch.optim.AdamW instead, or set `no_deprecation_warning=True` to disable this warning\n",
      "  warnings.warn(\n"
     ]
    },
    {
     "data": {
      "text/html": [
       "\n",
       "    <div>\n",
       "      \n",
       "      <progress value='7795' max='7795' style='width:300px; height:20px; vertical-align: middle;'></progress>\n",
       "      [7795/7795 02:47, Epoch 5/5]\n",
       "    </div>\n",
       "    <table border=\"1\" class=\"dataframe\">\n",
       "  <thead>\n",
       " <tr style=\"text-align: left;\">\n",
       "      <th>Epoch</th>\n",
       "      <th>Training Loss</th>\n",
       "      <th>Validation Loss</th>\n",
       "    </tr>\n",
       "  </thead>\n",
       "  <tbody>\n",
       "    <tr>\n",
       "      <td>1</td>\n",
       "      <td>3.227700</td>\n",
       "      <td>2.478909</td>\n",
       "    </tr>\n",
       "    <tr>\n",
       "      <td>2</td>\n",
       "      <td>1.584600</td>\n",
       "      <td>2.375520</td>\n",
       "    </tr>\n",
       "    <tr>\n",
       "      <td>3</td>\n",
       "      <td>2.911500</td>\n",
       "      <td>2.318776</td>\n",
       "    </tr>\n",
       "    <tr>\n",
       "      <td>4</td>\n",
       "      <td>2.124900</td>\n",
       "      <td>2.317183</td>\n",
       "    </tr>\n",
       "    <tr>\n",
       "      <td>5</td>\n",
       "      <td>2.536100</td>\n",
       "      <td>2.332911</td>\n",
       "    </tr>\n",
       "  </tbody>\n",
       "</table><p>"
      ],
      "text/plain": [
       "<IPython.core.display.HTML object>"
      ]
     },
     "metadata": {},
     "output_type": "display_data"
    },
    {
     "data": {
      "text/html": [
       "\n",
       "    <div>\n",
       "      \n",
       "      <progress value='174' max='174' style='width:300px; height:20px; vertical-align: middle;'></progress>\n",
       "      [174/174 00:00]\n",
       "    </div>\n",
       "    "
      ],
      "text/plain": [
       "<IPython.core.display.HTML object>"
      ]
     },
     "metadata": {},
     "output_type": "display_data"
    },
    {
     "data": {
      "text/html": [
       "Waiting for W&B process to finish... <strong style=\"color:green\">(success).</strong>"
      ],
      "text/plain": [
       "<IPython.core.display.HTML object>"
      ]
     },
     "metadata": {},
     "output_type": "display_data"
    },
    {
     "data": {
      "text/html": [
       "<style>\n",
       "    table.wandb td:nth-child(1) { padding: 0 10px; text-align: left ; width: auto;} td:nth-child(2) {text-align: left ; width: 100%}\n",
       "    .wandb-row { display: flex; flex-direction: row; flex-wrap: wrap; justify-content: flex-start; width: 100% }\n",
       "    .wandb-col { display: flex; flex-direction: column; flex-basis: 100%; flex: 1; padding: 10px; }\n",
       "    </style>\n",
       "<div class=\"wandb-row\"><div class=\"wandb-col\"><h3>Run history:</h3><br/><table class=\"wandb\"><tr><td>eval/loss</td><td>█▄▁▁▂▁</td></tr><tr><td>eval/runtime</td><td>█▄▁▁▂▁</td></tr><tr><td>eval/samples_per_second</td><td>▁▅██▇▇</td></tr><tr><td>eval/steps_per_second</td><td>▁▅██▇▇</td></tr><tr><td>train/epoch</td><td>▁▁▁▂▂▂▂▂▂▃▃▃▃▃▃▄▄▄▄▄▅▅▅▅▅▅▆▆▆▆▆▇▇▇▇▇▇███</td></tr><tr><td>train/global_step</td><td>▁▁▁▂▂▂▂▂▂▃▃▃▃▃▃▄▄▄▄▄▅▅▅▅▅▅▆▆▆▆▆▇▇▇▇▇▇███</td></tr><tr><td>train/learning_rate</td><td>███████▇▇▇▇▇▆▆▆▆▅▅▅▅▄▄▄▄▃▃▃▃▂▂▂▂▂▁▁▁▁▁▁▁</td></tr><tr><td>train/loss</td><td>█▆▃▆▆▃█▅▂▃▄▂▃▂▂▂▄▁▄▂▄▃▃▂▂▃▂▃▄▃▂▁▂▃▂▅▃▂▄▁</td></tr><tr><td>train/total_flos</td><td>▁</td></tr><tr><td>train/train_loss</td><td>▁</td></tr><tr><td>train/train_runtime</td><td>▁</td></tr><tr><td>train/train_samples_per_second</td><td>▁</td></tr><tr><td>train/train_steps_per_second</td><td>▁</td></tr></table><br/></div><div class=\"wandb-col\"><h3>Run summary:</h3><br/><table class=\"wandb\"><tr><td>eval/loss</td><td>2.31718</td></tr><tr><td>eval/runtime</td><td>0.8881</td></tr><tr><td>eval/samples_per_second</td><td>195.925</td></tr><tr><td>eval/steps_per_second</td><td>195.925</td></tr><tr><td>train/epoch</td><td>5.0</td></tr><tr><td>train/global_step</td><td>7795</td></tr><tr><td>train/learning_rate</td><td>0.0</td></tr><tr><td>train/loss</td><td>2.5361</td></tr><tr><td>train/total_flos</td><td>113043110952960.0</td></tr><tr><td>train/train_loss</td><td>2.33718</td></tr><tr><td>train/train_runtime</td><td>167.1615</td></tr><tr><td>train/train_samples_per_second</td><td>46.632</td></tr><tr><td>train/train_steps_per_second</td><td>46.632</td></tr></table><br/></div></div>"
      ],
      "text/plain": [
       "<IPython.core.display.HTML object>"
      ]
     },
     "metadata": {},
     "output_type": "display_data"
    },
    {
     "data": {
      "text/html": [
       " View run <strong style=\"color:#cdcd00\">ethereal-sponge-2</strong> at: <a href='https://wandb.ai/nlp_2023_romibomi_und_paulus_maximus/my-awesome-project/runs/gd2gmm3z' target=\"_blank\">https://wandb.ai/nlp_2023_romibomi_und_paulus_maximus/my-awesome-project/runs/gd2gmm3z</a><br/>Synced 6 W&B file(s), 0 media file(s), 4 artifact file(s) and 0 other file(s)"
      ],
      "text/plain": [
       "<IPython.core.display.HTML object>"
      ]
     },
     "metadata": {},
     "output_type": "display_data"
    },
    {
     "data": {
      "text/html": [
       "Find logs at: <code>./wandb/run-20230712_154033-gd2gmm3z/logs</code>"
      ],
      "text/plain": [
       "<IPython.core.display.HTML object>"
      ]
     },
     "metadata": {},
     "output_type": "display_data"
    }
   ],
   "source": [
    "# start wandb run\n",
    "wandb.init()\n",
    "\n",
    "trainer.train()\n",
    "\n",
    "trainer.evaluate()\n",
    "\n",
    "# end wandb run\n",
    "wandb.finish()"
   ]
  },
  {
   "cell_type": "code",
   "execution_count": 199,
   "metadata": {},
   "outputs": [
    {
     "name": "stdout",
     "output_type": "stream",
     "text": [
      "Question: What languages do they evaluate their methods on?\n",
      "Context: Rumour detection is hard because the most accurate systems operate retrospectively, only recognising rumours once they have collected repeated signals. By then the rumours might have already spread and caused harm. We introduce a new category of features based on novelty, tailored to detect rumours early on. To compensate for the absence of repeated signals, we make use of news wire as an additional data source. Unconfirmed (novel) information with respect to the news articles is considered as an indication of rumours. Additionally we introduce pseudo feedback, which assumes that documents that are similar to previous rumours, are more likely to also be a rumour. Comparison with other real-time approaches shows that novelty based features in conjunction with pseudo feedback perform significantly better, when detecting rumours instantly after their publication.\n",
      "Generated Answer: English\n",
      "Actual Answer: Chinese\n"
     ]
    },
    {
     "name": "stderr",
     "output_type": "stream",
     "text": [
      "/home/jerome/anaconda3/envs/umlia23/lib/python3.9/site-packages/transformers/generation/utils.py:1346: UserWarning: Using `max_length`'s default (20) to control the generation length. This behaviour is deprecated and will be removed from the config in v5 of Transformers -- we recommend using `max_new_tokens` to control the maximum length of the generation.\n",
      "  warnings.warn(\n"
     ]
    }
   ],
   "source": [
    "# run inference on a sample from the test split of flattened dataset\n",
    "sample = flattened_dataset['test'][9]\n",
    "\n",
    "# preprocess the sample\n",
    "preprocessed_sample = preprocess_function(sample, max_qc_len=128, max_ans_len=32)\n",
    "\n",
    "# move the sample to the device (GPU, if available)\n",
    "device = torch.device(\"cuda\" if torch.cuda.is_available() else \"cpu\")\n",
    "\n",
    "# run inference\n",
    "# model_base = T5ForConditionalGeneration.from_pretrained(\"google/t5-efficient-mini\")\n",
    "# model_base.to(device)\n",
    "generated_answer_ids = model.generate(\n",
    "    input_ids=torch.tensor([preprocessed_sample['input_ids']]).to(device),\n",
    "    attention_mask=torch.tensor([preprocessed_sample['attention_mask']]).to(device),\n",
    ")\n",
    "\n",
    "# decode the generated answer ids\n",
    "generated_answer = tokenizer.decode(generated_answer_ids[0], skip_special_tokens=True)\n",
    "\n",
    "print(\"Question:\", sample['question'])\n",
    "print(\"Context:\", sample['abstract'])\n",
    "print(\"Generated Answer:\", generated_answer)\n",
    "print(\"Actual Answer:\", sample['answer'])"
   ]
  }
 ],
 "metadata": {
  "kernelspec": {
   "display_name": "umlia23",
   "language": "python",
   "name": "python3"
  },
  "language_info": {
   "codemirror_mode": {
    "name": "ipython",
    "version": 3
   },
   "file_extension": ".py",
   "mimetype": "text/x-python",
   "name": "python",
   "nbconvert_exporter": "python",
   "pygments_lexer": "ipython3",
   "version": "3.9.16"
  },
  "orig_nbformat": 4
 },
 "nbformat": 4,
 "nbformat_minor": 2
}
